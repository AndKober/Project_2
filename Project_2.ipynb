{
  "cells": [
    {
      "cell_type": "markdown",
      "id": "42289889-bd57-434e-9637-d3e354756316",
      "metadata": {
        "id": "42289889-bd57-434e-9637-d3e354756316"
      },
      "source": [
        "<center> <img src = https://raw.githubusercontent.com/AndreyRysistov/DatasetsForPandas/main/hh%20label.jpg alt=\"drawing\" style=\"width:400px;\">"
      ]
    },
    {
      "cell_type": "markdown",
      "id": "829cb75b-f14e-4ba8-9195-7ba929a7d656",
      "metadata": {
        "id": "829cb75b-f14e-4ba8-9195-7ba929a7d656",
        "tags": []
      },
      "source": [
        "# <center> Проект: Анализ вакансий из HeadHunter\n",
        "   "
      ]
    },
    {
      "cell_type": "code",
      "execution_count": 1,
      "id": "dccfde33-2452-43fb-a8a5-5c6ebc02a71d",
      "metadata": {
        "id": "dccfde33-2452-43fb-a8a5-5c6ebc02a71d"
      },
      "outputs": [],
      "source": [
        "import pandas as pd\n",
        "import psycopg2"
      ]
    },
    {
      "cell_type": "code",
      "execution_count": 2,
      "id": "oVKH4ehvf8Ay",
      "metadata": {
        "id": "oVKH4ehvf8Ay"
      },
      "outputs": [],
      "source": [
        "# вставьте сюда параметры подключения из юнита 1. Работа с базой данных из Python \n",
        "DBNAME = 'project_sql'\n",
        "USER = 'skillfactory'\n",
        "PASSWORD = 'cCkxxLVrDE8EbvjueeMedPKt'\n",
        "HOST = '84.201.134.129'\n",
        "PORT = 5432\n",
        "\n",
        "# !!! ДАННЫЕ ДЛЯ ВХОДА УДАЛЕНЫ !!!"
      ]
    },
    {
      "cell_type": "code",
      "execution_count": 3,
      "id": "G4X_q8KBf7SF",
      "metadata": {
        "id": "G4X_q8KBf7SF"
      },
      "outputs": [],
      "source": [
        "connection = psycopg2.connect(\n",
        "    dbname=DBNAME,\n",
        "    user=USER,\n",
        "    host=HOST,\n",
        "    password=PASSWORD,\n",
        "    port=PORT\n",
        ")"
      ]
    },
    {
      "cell_type": "markdown",
      "id": "0dc6476b-7a00-44f1-ac93-6e3baed33a29",
      "metadata": {
        "id": "0dc6476b-7a00-44f1-ac93-6e3baed33a29"
      },
      "source": [
        "# Юнит 3. Предварительный анализ данных"
      ]
    },
    {
      "cell_type": "markdown",
      "id": "889782b6-8d1c-410e-8920-e57f27917c64",
      "metadata": {
        "id": "889782b6-8d1c-410e-8920-e57f27917c64"
      },
      "source": [
        "1. Напишите запрос, который посчитает количество вакансий в нашей базе (вакансии находятся в таблице vacancies). "
      ]
    },
    {
      "cell_type": "code",
      "execution_count": 4,
      "id": "bc39e68e-ed02-4ee2-9235-7258a2f867a8",
      "metadata": {
        "id": "bc39e68e-ed02-4ee2-9235-7258a2f867a8"
      },
      "outputs": [],
      "source": [
        "# текст запроса. в этом юните мной принято решение считать количество уникальных значений по столбцу с идентификатором, но возможен и вариант с подсчетом по всем столбцам.\n",
        "query_3_1 = f'''select COUNT(id)\n",
        "                from vacancies\n",
        "            '''"
      ]
    },
    {
      "cell_type": "code",
      "execution_count": 5,
      "id": "7mAwtsk4hEHY",
      "metadata": {
        "id": "7mAwtsk4hEHY"
      },
      "outputs": [
        {
          "name": "stderr",
          "output_type": "stream",
          "text": [
            "C:\\Users\\andrv\\AppData\\Local\\Temp\\ipykernel_24572\\1114379196.py:2: UserWarning: pandas only supports SQLAlchemy connectable (engine/connection) or database string URI or sqlite3 DBAPI2 connection. Other DBAPI2 objects are not tested. Please consider using SQLAlchemy.\n",
            "  df = pd.read_sql_query(query_3_1, connection)\n"
          ]
        },
        {
          "data": {
            "text/html": [
              "<div>\n",
              "<style scoped>\n",
              "    .dataframe tbody tr th:only-of-type {\n",
              "        vertical-align: middle;\n",
              "    }\n",
              "\n",
              "    .dataframe tbody tr th {\n",
              "        vertical-align: top;\n",
              "    }\n",
              "\n",
              "    .dataframe thead th {\n",
              "        text-align: right;\n",
              "    }\n",
              "</style>\n",
              "<table border=\"1\" class=\"dataframe\">\n",
              "  <thead>\n",
              "    <tr style=\"text-align: right;\">\n",
              "      <th></th>\n",
              "      <th>count</th>\n",
              "    </tr>\n",
              "  </thead>\n",
              "  <tbody>\n",
              "    <tr>\n",
              "      <th>0</th>\n",
              "      <td>49197</td>\n",
              "    </tr>\n",
              "  </tbody>\n",
              "</table>\n",
              "</div>"
            ],
            "text/plain": [
              "   count\n",
              "0  49197"
            ]
          },
          "execution_count": 5,
          "metadata": {},
          "output_type": "execute_result"
        }
      ],
      "source": [
        "# результат запроса\n",
        "df = pd.read_sql_query(query_3_1, connection)\n",
        "df"
      ]
    },
    {
      "cell_type": "markdown",
      "id": "b583485d-1f9e-494e-ada4-80ffff7c53d6",
      "metadata": {
        "id": "b583485d-1f9e-494e-ada4-80ffff7c53d6"
      },
      "source": [
        "2. Напишите запрос, который посчитает количество работодателей (таблица employers). "
      ]
    },
    {
      "cell_type": "code",
      "execution_count": 6,
      "id": "5408c52c-3407-4a63-b25b-1aafa2322d28",
      "metadata": {
        "id": "5408c52c-3407-4a63-b25b-1aafa2322d28"
      },
      "outputs": [],
      "source": [
        "# текст запроса\n",
        "query_3_2 = f'''select COUNT(id)\n",
        "                from employers\n",
        "            '''"
      ]
    },
    {
      "cell_type": "code",
      "execution_count": 7,
      "id": "jVL4eshKhdqc",
      "metadata": {
        "id": "jVL4eshKhdqc"
      },
      "outputs": [
        {
          "name": "stderr",
          "output_type": "stream",
          "text": [
            "C:\\Users\\andrv\\AppData\\Local\\Temp\\ipykernel_24572\\3062646138.py:2: UserWarning: pandas only supports SQLAlchemy connectable (engine/connection) or database string URI or sqlite3 DBAPI2 connection. Other DBAPI2 objects are not tested. Please consider using SQLAlchemy.\n",
            "  df = pd.read_sql_query(query_3_2, connection)\n"
          ]
        },
        {
          "data": {
            "text/html": [
              "<div>\n",
              "<style scoped>\n",
              "    .dataframe tbody tr th:only-of-type {\n",
              "        vertical-align: middle;\n",
              "    }\n",
              "\n",
              "    .dataframe tbody tr th {\n",
              "        vertical-align: top;\n",
              "    }\n",
              "\n",
              "    .dataframe thead th {\n",
              "        text-align: right;\n",
              "    }\n",
              "</style>\n",
              "<table border=\"1\" class=\"dataframe\">\n",
              "  <thead>\n",
              "    <tr style=\"text-align: right;\">\n",
              "      <th></th>\n",
              "      <th>count</th>\n",
              "    </tr>\n",
              "  </thead>\n",
              "  <tbody>\n",
              "    <tr>\n",
              "      <th>0</th>\n",
              "      <td>23501</td>\n",
              "    </tr>\n",
              "  </tbody>\n",
              "</table>\n",
              "</div>"
            ],
            "text/plain": [
              "   count\n",
              "0  23501"
            ]
          },
          "execution_count": 7,
          "metadata": {},
          "output_type": "execute_result"
        }
      ],
      "source": [
        "# результат запроса\n",
        "df = pd.read_sql_query(query_3_2, connection)\n",
        "df"
      ]
    },
    {
      "cell_type": "markdown",
      "id": "a2bfff1f-c975-4bf6-84be-2185d79dcb76",
      "metadata": {
        "id": "a2bfff1f-c975-4bf6-84be-2185d79dcb76"
      },
      "source": [
        "3. Посчитате с помощью запроса количество регионов (таблица areas)."
      ]
    },
    {
      "cell_type": "code",
      "execution_count": 8,
      "id": "1m8QJwBYhey6",
      "metadata": {
        "id": "1m8QJwBYhey6"
      },
      "outputs": [],
      "source": [
        "# текст запроса\n",
        "query_3_3 = f'''select COUNT(id)\n",
        "                from areas\n",
        "            '''"
      ]
    },
    {
      "cell_type": "code",
      "execution_count": 9,
      "id": "EZsn9tlfhe7f",
      "metadata": {
        "id": "EZsn9tlfhe7f"
      },
      "outputs": [
        {
          "name": "stderr",
          "output_type": "stream",
          "text": [
            "C:\\Users\\andrv\\AppData\\Local\\Temp\\ipykernel_24572\\928149064.py:2: UserWarning: pandas only supports SQLAlchemy connectable (engine/connection) or database string URI or sqlite3 DBAPI2 connection. Other DBAPI2 objects are not tested. Please consider using SQLAlchemy.\n",
            "  df = pd.read_sql_query(query_3_3, connection)\n"
          ]
        },
        {
          "data": {
            "text/html": [
              "<div>\n",
              "<style scoped>\n",
              "    .dataframe tbody tr th:only-of-type {\n",
              "        vertical-align: middle;\n",
              "    }\n",
              "\n",
              "    .dataframe tbody tr th {\n",
              "        vertical-align: top;\n",
              "    }\n",
              "\n",
              "    .dataframe thead th {\n",
              "        text-align: right;\n",
              "    }\n",
              "</style>\n",
              "<table border=\"1\" class=\"dataframe\">\n",
              "  <thead>\n",
              "    <tr style=\"text-align: right;\">\n",
              "      <th></th>\n",
              "      <th>count</th>\n",
              "    </tr>\n",
              "  </thead>\n",
              "  <tbody>\n",
              "    <tr>\n",
              "      <th>0</th>\n",
              "      <td>1362</td>\n",
              "    </tr>\n",
              "  </tbody>\n",
              "</table>\n",
              "</div>"
            ],
            "text/plain": [
              "   count\n",
              "0   1362"
            ]
          },
          "execution_count": 9,
          "metadata": {},
          "output_type": "execute_result"
        }
      ],
      "source": [
        "# результат запроса\n",
        "df = pd.read_sql_query(query_3_3, connection)\n",
        "df"
      ]
    },
    {
      "cell_type": "markdown",
      "id": "41bb59f3-53cc-4a67-a5bc-bedf573955e4",
      "metadata": {
        "id": "41bb59f3-53cc-4a67-a5bc-bedf573955e4"
      },
      "source": [
        "4. Посчитате с помощью запроса количество сфер деятельности в базе (таблица industries)."
      ]
    },
    {
      "cell_type": "code",
      "execution_count": 10,
      "id": "d286cf4c-707b-4cd2-9190-7ab3587d04a1",
      "metadata": {
        "id": "d286cf4c-707b-4cd2-9190-7ab3587d04a1"
      },
      "outputs": [],
      "source": [
        "# текст запроса\n",
        "query_3_4 = f'''select COUNT(id)\n",
        "                from industries\n",
        "            '''"
      ]
    },
    {
      "cell_type": "code",
      "execution_count": 11,
      "id": "JYAaoZ4qhfzW",
      "metadata": {
        "id": "JYAaoZ4qhfzW"
      },
      "outputs": [
        {
          "name": "stderr",
          "output_type": "stream",
          "text": [
            "C:\\Users\\andrv\\AppData\\Local\\Temp\\ipykernel_24572\\2101691108.py:2: UserWarning: pandas only supports SQLAlchemy connectable (engine/connection) or database string URI or sqlite3 DBAPI2 connection. Other DBAPI2 objects are not tested. Please consider using SQLAlchemy.\n",
            "  df = pd.read_sql_query(query_3_4, connection)\n"
          ]
        },
        {
          "data": {
            "text/html": [
              "<div>\n",
              "<style scoped>\n",
              "    .dataframe tbody tr th:only-of-type {\n",
              "        vertical-align: middle;\n",
              "    }\n",
              "\n",
              "    .dataframe tbody tr th {\n",
              "        vertical-align: top;\n",
              "    }\n",
              "\n",
              "    .dataframe thead th {\n",
              "        text-align: right;\n",
              "    }\n",
              "</style>\n",
              "<table border=\"1\" class=\"dataframe\">\n",
              "  <thead>\n",
              "    <tr style=\"text-align: right;\">\n",
              "      <th></th>\n",
              "      <th>count</th>\n",
              "    </tr>\n",
              "  </thead>\n",
              "  <tbody>\n",
              "    <tr>\n",
              "      <th>0</th>\n",
              "      <td>294</td>\n",
              "    </tr>\n",
              "  </tbody>\n",
              "</table>\n",
              "</div>"
            ],
            "text/plain": [
              "   count\n",
              "0    294"
            ]
          },
          "execution_count": 11,
          "metadata": {},
          "output_type": "execute_result"
        }
      ],
      "source": [
        "# результат запроса\n",
        "df = pd.read_sql_query(query_3_4, connection)\n",
        "df"
      ]
    },
    {
      "cell_type": "markdown",
      "id": "9a8a2181-6914-448b-85f1-38f5f18b8a93",
      "metadata": {
        "id": "9a8a2181-6914-448b-85f1-38f5f18b8a93"
      },
      "source": [
        "***"
      ]
    },
    {
      "cell_type": "markdown",
      "id": "4ad710ce",
      "metadata": {},
      "source": [
        "### Выводы по предварительному анализу данных: ###\n",
        "Из данного анализа видно, что в базе данных хранится информация о вакансиях от 23501 работодателя, зарегистрированных в 1362 регионах/городах, и работающих в 294 индустриях.\n",
        "Это значит, что многие работодатели из базы являются прямыми конкурентами, а некоторые из них еще и работают на одной и той же территории. \n",
        "Помимо этого, в базе хораниться 49197 вакансий, следовательно в некоторые организации одновременно требуется более одного сотрудника."
      ]
    },
    {
      "cell_type": "markdown",
      "id": "8d62a9f3-f64e-4fe7-bdac-c4dffa16155e",
      "metadata": {
        "id": "8d62a9f3-f64e-4fe7-bdac-c4dffa16155e"
      },
      "source": [
        "# Юнит 4. Детальный анализ вакансий"
      ]
    },
    {
      "cell_type": "markdown",
      "id": "93053d3d-b284-481a-9cf7-012d7014c0e0",
      "metadata": {
        "id": "93053d3d-b284-481a-9cf7-012d7014c0e0"
      },
      "source": [
        "1. Напишите запрос, который позволит узнать, сколько (cnt) вакансий в каждом регионе (area).\n",
        "Отсортируйте по количеству вакансий в порядке убывания."
      ]
    },
    {
      "cell_type": "code",
      "execution_count": 12,
      "id": "3f069da6-fdc9-4ae7-b514-fafe2675efd3",
      "metadata": {
        "id": "3f069da6-fdc9-4ae7-b514-fafe2675efd3"
      },
      "outputs": [],
      "source": [
        "# текст запроса. Запросы в юните, на мой взгляд, довольно просты и не нуждаются в отдельных комментариях.\n",
        "# при подсчете и именовании таблиц, руководствовался теми же принципами, что и в предыдущем юните.\n",
        "query_4_1 = f'''select a.name area, COUNT(v.id) cnt\n",
        "                from vacancies v\n",
        "                left join areas a on v.area_id = a.id\n",
        "                group by a.name\n",
        "                order by 2 DESC \n",
        "            '''"
      ]
    },
    {
      "cell_type": "code",
      "execution_count": 13,
      "id": "P7QL86hrjhRJ",
      "metadata": {
        "id": "P7QL86hrjhRJ"
      },
      "outputs": [
        {
          "name": "stderr",
          "output_type": "stream",
          "text": [
            "C:\\Users\\andrv\\AppData\\Local\\Temp\\ipykernel_24572\\2457173557.py:2: UserWarning: pandas only supports SQLAlchemy connectable (engine/connection) or database string URI or sqlite3 DBAPI2 connection. Other DBAPI2 objects are not tested. Please consider using SQLAlchemy.\n",
            "  df = pd.read_sql_query(query_4_1, connection)\n"
          ]
        },
        {
          "data": {
            "text/html": [
              "<div>\n",
              "<style scoped>\n",
              "    .dataframe tbody tr th:only-of-type {\n",
              "        vertical-align: middle;\n",
              "    }\n",
              "\n",
              "    .dataframe tbody tr th {\n",
              "        vertical-align: top;\n",
              "    }\n",
              "\n",
              "    .dataframe thead th {\n",
              "        text-align: right;\n",
              "    }\n",
              "</style>\n",
              "<table border=\"1\" class=\"dataframe\">\n",
              "  <thead>\n",
              "    <tr style=\"text-align: right;\">\n",
              "      <th></th>\n",
              "      <th>area</th>\n",
              "      <th>cnt</th>\n",
              "    </tr>\n",
              "  </thead>\n",
              "  <tbody>\n",
              "    <tr>\n",
              "      <th>0</th>\n",
              "      <td>Москва</td>\n",
              "      <td>5333</td>\n",
              "    </tr>\n",
              "    <tr>\n",
              "      <th>1</th>\n",
              "      <td>Санкт-Петербург</td>\n",
              "      <td>2851</td>\n",
              "    </tr>\n",
              "    <tr>\n",
              "      <th>2</th>\n",
              "      <td>Минск</td>\n",
              "      <td>2112</td>\n",
              "    </tr>\n",
              "    <tr>\n",
              "      <th>3</th>\n",
              "      <td>Новосибирск</td>\n",
              "      <td>2006</td>\n",
              "    </tr>\n",
              "    <tr>\n",
              "      <th>4</th>\n",
              "      <td>Алматы</td>\n",
              "      <td>1892</td>\n",
              "    </tr>\n",
              "    <tr>\n",
              "      <th>...</th>\n",
              "      <td>...</td>\n",
              "      <td>...</td>\n",
              "    </tr>\n",
              "    <tr>\n",
              "      <th>764</th>\n",
              "      <td>Тарко-Сале</td>\n",
              "      <td>1</td>\n",
              "    </tr>\n",
              "    <tr>\n",
              "      <th>765</th>\n",
              "      <td>Новоаннинский</td>\n",
              "      <td>1</td>\n",
              "    </tr>\n",
              "    <tr>\n",
              "      <th>766</th>\n",
              "      <td>Бирск</td>\n",
              "      <td>1</td>\n",
              "    </tr>\n",
              "    <tr>\n",
              "      <th>767</th>\n",
              "      <td>Сасово</td>\n",
              "      <td>1</td>\n",
              "    </tr>\n",
              "    <tr>\n",
              "      <th>768</th>\n",
              "      <td>Анна</td>\n",
              "      <td>1</td>\n",
              "    </tr>\n",
              "  </tbody>\n",
              "</table>\n",
              "<p>769 rows × 2 columns</p>\n",
              "</div>"
            ],
            "text/plain": [
              "                area   cnt\n",
              "0             Москва  5333\n",
              "1    Санкт-Петербург  2851\n",
              "2              Минск  2112\n",
              "3        Новосибирск  2006\n",
              "4             Алматы  1892\n",
              "..               ...   ...\n",
              "764       Тарко-Сале     1\n",
              "765    Новоаннинский     1\n",
              "766            Бирск     1\n",
              "767           Сасово     1\n",
              "768             Анна     1\n",
              "\n",
              "[769 rows x 2 columns]"
            ]
          },
          "execution_count": 13,
          "metadata": {},
          "output_type": "execute_result"
        }
      ],
      "source": [
        "# результат запроса\n",
        "df = pd.read_sql_query(query_4_1, connection)\n",
        "df"
      ]
    },
    {
      "cell_type": "markdown",
      "id": "4266f0b6-1646-492a-88b4-2f6a46502135",
      "metadata": {
        "id": "4266f0b6-1646-492a-88b4-2f6a46502135"
      },
      "source": [
        "2. Напишите запрос, чтобы определить у какого количества вакансий заполнено хотя бы одно из двух полей с зарплатой."
      ]
    },
    {
      "cell_type": "code",
      "execution_count": 14,
      "id": "0c44b350-72eb-4d65-8b54-a1fc449ba9fd",
      "metadata": {
        "id": "0c44b350-72eb-4d65-8b54-a1fc449ba9fd"
      },
      "outputs": [],
      "source": [
        "# текст запроса\n",
        "query_4_2 = f'''select COUNT(id)\n",
        "                from vacancies\n",
        "                where (salary_from is not null) or (salary_to is not null)\n",
        "            '''"
      ]
    },
    {
      "cell_type": "code",
      "execution_count": 15,
      "id": "rhvwaMDkoWTi",
      "metadata": {
        "id": "rhvwaMDkoWTi"
      },
      "outputs": [
        {
          "name": "stderr",
          "output_type": "stream",
          "text": [
            "C:\\Users\\andrv\\AppData\\Local\\Temp\\ipykernel_24572\\970655580.py:2: UserWarning: pandas only supports SQLAlchemy connectable (engine/connection) or database string URI or sqlite3 DBAPI2 connection. Other DBAPI2 objects are not tested. Please consider using SQLAlchemy.\n",
            "  df = pd.read_sql_query(query_4_2, connection)\n"
          ]
        },
        {
          "data": {
            "text/html": [
              "<div>\n",
              "<style scoped>\n",
              "    .dataframe tbody tr th:only-of-type {\n",
              "        vertical-align: middle;\n",
              "    }\n",
              "\n",
              "    .dataframe tbody tr th {\n",
              "        vertical-align: top;\n",
              "    }\n",
              "\n",
              "    .dataframe thead th {\n",
              "        text-align: right;\n",
              "    }\n",
              "</style>\n",
              "<table border=\"1\" class=\"dataframe\">\n",
              "  <thead>\n",
              "    <tr style=\"text-align: right;\">\n",
              "      <th></th>\n",
              "      <th>count</th>\n",
              "    </tr>\n",
              "  </thead>\n",
              "  <tbody>\n",
              "    <tr>\n",
              "      <th>0</th>\n",
              "      <td>24073</td>\n",
              "    </tr>\n",
              "  </tbody>\n",
              "</table>\n",
              "</div>"
            ],
            "text/plain": [
              "   count\n",
              "0  24073"
            ]
          },
          "execution_count": 15,
          "metadata": {},
          "output_type": "execute_result"
        }
      ],
      "source": [
        "# результат запроса\n",
        "df = pd.read_sql_query(query_4_2, connection)\n",
        "df"
      ]
    },
    {
      "cell_type": "markdown",
      "id": "635c4d5d-f323-4c66-b428-50a088120aa0",
      "metadata": {
        "id": "635c4d5d-f323-4c66-b428-50a088120aa0"
      },
      "source": [
        "3. Найдите средние значения для нижней и верхней границы зарплатной вилки. Округлите значения до целого."
      ]
    },
    {
      "cell_type": "code",
      "execution_count": 16,
      "id": "603cdbe4-0ec3-4106-8eaf-c73fcdd29165",
      "metadata": {
        "id": "603cdbe4-0ec3-4106-8eaf-c73fcdd29165"
      },
      "outputs": [],
      "source": [
        "# текст запроса\n",
        "query_4_3 = f'''select round(AVG(salary_from)) avg_from, round(AVG(salary_to)) avg_to\n",
        "                from vacancies\n",
        "            '''"
      ]
    },
    {
      "cell_type": "code",
      "execution_count": 17,
      "id": "pswpAb66ovZZ",
      "metadata": {
        "id": "pswpAb66ovZZ"
      },
      "outputs": [
        {
          "name": "stderr",
          "output_type": "stream",
          "text": [
            "C:\\Users\\andrv\\AppData\\Local\\Temp\\ipykernel_24572\\2500607024.py:2: UserWarning: pandas only supports SQLAlchemy connectable (engine/connection) or database string URI or sqlite3 DBAPI2 connection. Other DBAPI2 objects are not tested. Please consider using SQLAlchemy.\n",
            "  df = pd.read_sql_query(query_4_3, connection)\n"
          ]
        },
        {
          "data": {
            "text/html": [
              "<div>\n",
              "<style scoped>\n",
              "    .dataframe tbody tr th:only-of-type {\n",
              "        vertical-align: middle;\n",
              "    }\n",
              "\n",
              "    .dataframe tbody tr th {\n",
              "        vertical-align: top;\n",
              "    }\n",
              "\n",
              "    .dataframe thead th {\n",
              "        text-align: right;\n",
              "    }\n",
              "</style>\n",
              "<table border=\"1\" class=\"dataframe\">\n",
              "  <thead>\n",
              "    <tr style=\"text-align: right;\">\n",
              "      <th></th>\n",
              "      <th>avg_from</th>\n",
              "      <th>avg_to</th>\n",
              "    </tr>\n",
              "  </thead>\n",
              "  <tbody>\n",
              "    <tr>\n",
              "      <th>0</th>\n",
              "      <td>71065.0</td>\n",
              "      <td>110537.0</td>\n",
              "    </tr>\n",
              "  </tbody>\n",
              "</table>\n",
              "</div>"
            ],
            "text/plain": [
              "   avg_from    avg_to\n",
              "0   71065.0  110537.0"
            ]
          },
          "execution_count": 17,
          "metadata": {},
          "output_type": "execute_result"
        }
      ],
      "source": [
        "# результат запроса\n",
        "df = pd.read_sql_query(query_4_3, connection)\n",
        "df"
      ]
    },
    {
      "cell_type": "markdown",
      "id": "f3fdaec9-5fd3-4260-9cf5-1d7406b628a5",
      "metadata": {
        "id": "f3fdaec9-5fd3-4260-9cf5-1d7406b628a5"
      },
      "source": [
        "4. Напишите запрос, который выведет количество вакансий для каждого сочетания типа рабочего графика (schedule) и типа трудоустройства (employment), используемого в вакансиях. Результат отсортируйте по убыванию количества.\n"
      ]
    },
    {
      "cell_type": "code",
      "execution_count": 18,
      "id": "1ea710ec-871b-431e-9462-c7d0fd87011b",
      "metadata": {
        "id": "1ea710ec-871b-431e-9462-c7d0fd87011b"
      },
      "outputs": [],
      "source": [
        "# текст запроса\n",
        "query_4_4 = f'''select schedule, employment, count(id) cnt\n",
        "                from vacancies\n",
        "                group by 1,2\n",
        "                order by 3 desc\n",
        "            '''"
      ]
    },
    {
      "cell_type": "code",
      "execution_count": 19,
      "id": "lGUVqavdo4JQ",
      "metadata": {
        "id": "lGUVqavdo4JQ"
      },
      "outputs": [
        {
          "name": "stderr",
          "output_type": "stream",
          "text": [
            "C:\\Users\\andrv\\AppData\\Local\\Temp\\ipykernel_24572\\2022935265.py:2: UserWarning: pandas only supports SQLAlchemy connectable (engine/connection) or database string URI or sqlite3 DBAPI2 connection. Other DBAPI2 objects are not tested. Please consider using SQLAlchemy.\n",
            "  df = pd.read_sql_query(query_4_4, connection)\n"
          ]
        },
        {
          "data": {
            "text/html": [
              "<div>\n",
              "<style scoped>\n",
              "    .dataframe tbody tr th:only-of-type {\n",
              "        vertical-align: middle;\n",
              "    }\n",
              "\n",
              "    .dataframe tbody tr th {\n",
              "        vertical-align: top;\n",
              "    }\n",
              "\n",
              "    .dataframe thead th {\n",
              "        text-align: right;\n",
              "    }\n",
              "</style>\n",
              "<table border=\"1\" class=\"dataframe\">\n",
              "  <thead>\n",
              "    <tr style=\"text-align: right;\">\n",
              "      <th></th>\n",
              "      <th>schedule</th>\n",
              "      <th>employment</th>\n",
              "      <th>cnt</th>\n",
              "    </tr>\n",
              "  </thead>\n",
              "  <tbody>\n",
              "    <tr>\n",
              "      <th>0</th>\n",
              "      <td>Полный день</td>\n",
              "      <td>Полная занятость</td>\n",
              "      <td>35367</td>\n",
              "    </tr>\n",
              "    <tr>\n",
              "      <th>1</th>\n",
              "      <td>Удаленная работа</td>\n",
              "      <td>Полная занятость</td>\n",
              "      <td>7802</td>\n",
              "    </tr>\n",
              "    <tr>\n",
              "      <th>2</th>\n",
              "      <td>Гибкий график</td>\n",
              "      <td>Полная занятость</td>\n",
              "      <td>1593</td>\n",
              "    </tr>\n",
              "    <tr>\n",
              "      <th>3</th>\n",
              "      <td>Удаленная работа</td>\n",
              "      <td>Частичная занятость</td>\n",
              "      <td>1312</td>\n",
              "    </tr>\n",
              "    <tr>\n",
              "      <th>4</th>\n",
              "      <td>Сменный график</td>\n",
              "      <td>Полная занятость</td>\n",
              "      <td>940</td>\n",
              "    </tr>\n",
              "    <tr>\n",
              "      <th>5</th>\n",
              "      <td>Полный день</td>\n",
              "      <td>Стажировка</td>\n",
              "      <td>569</td>\n",
              "    </tr>\n",
              "    <tr>\n",
              "      <th>6</th>\n",
              "      <td>Вахтовый метод</td>\n",
              "      <td>Полная занятость</td>\n",
              "      <td>367</td>\n",
              "    </tr>\n",
              "    <tr>\n",
              "      <th>7</th>\n",
              "      <td>Полный день</td>\n",
              "      <td>Частичная занятость</td>\n",
              "      <td>347</td>\n",
              "    </tr>\n",
              "    <tr>\n",
              "      <th>8</th>\n",
              "      <td>Гибкий график</td>\n",
              "      <td>Частичная занятость</td>\n",
              "      <td>312</td>\n",
              "    </tr>\n",
              "    <tr>\n",
              "      <th>9</th>\n",
              "      <td>Полный день</td>\n",
              "      <td>Проектная работа</td>\n",
              "      <td>141</td>\n",
              "    </tr>\n",
              "    <tr>\n",
              "      <th>10</th>\n",
              "      <td>Удаленная работа</td>\n",
              "      <td>Проектная работа</td>\n",
              "      <td>133</td>\n",
              "    </tr>\n",
              "    <tr>\n",
              "      <th>11</th>\n",
              "      <td>Гибкий график</td>\n",
              "      <td>Стажировка</td>\n",
              "      <td>116</td>\n",
              "    </tr>\n",
              "    <tr>\n",
              "      <th>12</th>\n",
              "      <td>Сменный график</td>\n",
              "      <td>Частичная занятость</td>\n",
              "      <td>101</td>\n",
              "    </tr>\n",
              "    <tr>\n",
              "      <th>13</th>\n",
              "      <td>Удаленная работа</td>\n",
              "      <td>Стажировка</td>\n",
              "      <td>64</td>\n",
              "    </tr>\n",
              "    <tr>\n",
              "      <th>14</th>\n",
              "      <td>Гибкий график</td>\n",
              "      <td>Проектная работа</td>\n",
              "      <td>18</td>\n",
              "    </tr>\n",
              "    <tr>\n",
              "      <th>15</th>\n",
              "      <td>Сменный график</td>\n",
              "      <td>Стажировка</td>\n",
              "      <td>12</td>\n",
              "    </tr>\n",
              "    <tr>\n",
              "      <th>16</th>\n",
              "      <td>Вахтовый метод</td>\n",
              "      <td>Проектная работа</td>\n",
              "      <td>2</td>\n",
              "    </tr>\n",
              "    <tr>\n",
              "      <th>17</th>\n",
              "      <td>Сменный график</td>\n",
              "      <td>Проектная работа</td>\n",
              "      <td>1</td>\n",
              "    </tr>\n",
              "  </tbody>\n",
              "</table>\n",
              "</div>"
            ],
            "text/plain": [
              "            schedule           employment    cnt\n",
              "0        Полный день     Полная занятость  35367\n",
              "1   Удаленная работа     Полная занятость   7802\n",
              "2      Гибкий график     Полная занятость   1593\n",
              "3   Удаленная работа  Частичная занятость   1312\n",
              "4     Сменный график     Полная занятость    940\n",
              "5        Полный день           Стажировка    569\n",
              "6     Вахтовый метод     Полная занятость    367\n",
              "7        Полный день  Частичная занятость    347\n",
              "8      Гибкий график  Частичная занятость    312\n",
              "9        Полный день     Проектная работа    141\n",
              "10  Удаленная работа     Проектная работа    133\n",
              "11     Гибкий график           Стажировка    116\n",
              "12    Сменный график  Частичная занятость    101\n",
              "13  Удаленная работа           Стажировка     64\n",
              "14     Гибкий график     Проектная работа     18\n",
              "15    Сменный график           Стажировка     12\n",
              "16    Вахтовый метод     Проектная работа      2\n",
              "17    Сменный график     Проектная работа      1"
            ]
          },
          "execution_count": 19,
          "metadata": {},
          "output_type": "execute_result"
        }
      ],
      "source": [
        "# результат запроса\n",
        "df = pd.read_sql_query(query_4_4, connection)\n",
        "df"
      ]
    },
    {
      "cell_type": "markdown",
      "id": "0136ffee-0ead-4a6b-b608-61d1c753a438",
      "metadata": {
        "id": "0136ffee-0ead-4a6b-b608-61d1c753a438"
      },
      "source": [
        "5. Напишите запрос, выводящий значения поля Требуемый опыт работы (experience) в порядке возрастания количества вакансий, в которых указан данный вариант опыта. "
      ]
    },
    {
      "cell_type": "code",
      "execution_count": 20,
      "id": "5b3a8e79-f7ab-4008-b767-12aea3a205ea",
      "metadata": {
        "id": "5b3a8e79-f7ab-4008-b767-12aea3a205ea"
      },
      "outputs": [],
      "source": [
        "# текст запроса\n",
        "query_4_5 = f'''select experience as \"Требуемый опыт работы\", count(id) cnt\n",
        "                from vacancies\n",
        "                group by 1\n",
        "                order by 2\n",
        "            '''"
      ]
    },
    {
      "cell_type": "code",
      "execution_count": 21,
      "id": "3Is64Y-hpDpq",
      "metadata": {
        "id": "3Is64Y-hpDpq"
      },
      "outputs": [
        {
          "name": "stderr",
          "output_type": "stream",
          "text": [
            "C:\\Users\\andrv\\AppData\\Local\\Temp\\ipykernel_24572\\2316260449.py:2: UserWarning: pandas only supports SQLAlchemy connectable (engine/connection) or database string URI or sqlite3 DBAPI2 connection. Other DBAPI2 objects are not tested. Please consider using SQLAlchemy.\n",
            "  df = pd.read_sql_query(query_4_5, connection)\n"
          ]
        },
        {
          "data": {
            "text/html": [
              "<div>\n",
              "<style scoped>\n",
              "    .dataframe tbody tr th:only-of-type {\n",
              "        vertical-align: middle;\n",
              "    }\n",
              "\n",
              "    .dataframe tbody tr th {\n",
              "        vertical-align: top;\n",
              "    }\n",
              "\n",
              "    .dataframe thead th {\n",
              "        text-align: right;\n",
              "    }\n",
              "</style>\n",
              "<table border=\"1\" class=\"dataframe\">\n",
              "  <thead>\n",
              "    <tr style=\"text-align: right;\">\n",
              "      <th></th>\n",
              "      <th>Требуемый опыт работы</th>\n",
              "      <th>cnt</th>\n",
              "    </tr>\n",
              "  </thead>\n",
              "  <tbody>\n",
              "    <tr>\n",
              "      <th>0</th>\n",
              "      <td>Более 6 лет</td>\n",
              "      <td>1337</td>\n",
              "    </tr>\n",
              "    <tr>\n",
              "      <th>1</th>\n",
              "      <td>Нет опыта</td>\n",
              "      <td>7197</td>\n",
              "    </tr>\n",
              "    <tr>\n",
              "      <th>2</th>\n",
              "      <td>От 3 до 6 лет</td>\n",
              "      <td>14511</td>\n",
              "    </tr>\n",
              "    <tr>\n",
              "      <th>3</th>\n",
              "      <td>От 1 года до 3 лет</td>\n",
              "      <td>26152</td>\n",
              "    </tr>\n",
              "  </tbody>\n",
              "</table>\n",
              "</div>"
            ],
            "text/plain": [
              "  Требуемый опыт работы    cnt\n",
              "0           Более 6 лет   1337\n",
              "1             Нет опыта   7197\n",
              "2         От 3 до 6 лет  14511\n",
              "3    От 1 года до 3 лет  26152"
            ]
          },
          "execution_count": 21,
          "metadata": {},
          "output_type": "execute_result"
        }
      ],
      "source": [
        "# результат запроса\n",
        "df = pd.read_sql_query(query_4_5, connection)\n",
        "df"
      ]
    },
    {
      "cell_type": "markdown",
      "id": "oq2b7n1QpIka",
      "metadata": {
        "id": "oq2b7n1QpIka"
      },
      "source": [
        "***"
      ]
    },
    {
      "cell_type": "markdown",
      "id": "a649d0a3",
      "metadata": {},
      "source": [
        "### Выводы по детальному анализу вакансий: ###\n",
        "Из типовой части юнита мы выяснили где больше выкансий, узнали пожелания работодателей.\n",
        " \n",
        "Лидерами по вакансиям ожидаемо оказались крупные города под предводительством Москвы, но было приятно увидеть название своего родного городка, пусть и где-то в хвосте списка с всего одной вакансией. \n",
        "\n",
        "Далеко не все работодатели горят желанием сообщить соискателю сколько ему будут платить, а это признак, который тяжело спрогнозировать и автозаполнить константами или медианами, так как мы не можем залезть в бухгалтерию каждого работодателя и выяснить его платежеспособность (может быть и можем, но это очень трудозатратно, и не факт, что такую информацию можно найти в свободном доступе). А исключать эти признаки нельзя, так как они являются одними из основных для наших клиентов. Так что работаем с тем что есть.\n",
        "\n",
        "Большая часть работодателей ищет людей готовых сидеть в офисе с 8:00 до 18:00 5 дней в неделю (если я правильно понимаю, что полный день - это непосредственное присутствие на территории работодателя), что б эти люди уже что-то умели, но еще не выгорели и не потеряли интерес к работе, и судя из данных по зарплате платить им хотят в среднем от 71 000 до 110 000 рублей.\n",
        "\n"
      ]
    },
    {
      "cell_type": "markdown",
      "id": "7ea20ab6-04a7-40a0-adec-443a0e5a42c3",
      "metadata": {
        "id": "7ea20ab6-04a7-40a0-adec-443a0e5a42c3"
      },
      "source": [
        "# Юнит 5. Анализ работодателей"
      ]
    },
    {
      "cell_type": "markdown",
      "id": "968aed80-74ef-4ffb-b5bf-c65b84e9caea",
      "metadata": {
        "id": "968aed80-74ef-4ffb-b5bf-c65b84e9caea"
      },
      "source": [
        "1. Напишите запрос, который позволит узнать, какие работодатели находятся на первом и пятом месте по количеству вакансий."
      ]
    },
    {
      "cell_type": "code",
      "execution_count": 22,
      "id": "f2d62796-d400-4ec1-a675-88112739a50e",
      "metadata": {
        "id": "f2d62796-d400-4ec1-a675-88112739a50e"
      },
      "outputs": [],
      "source": [
        "# текст запроса. Данный запрос можно было бы написать другим образом, создав две отдельнык таблицы с первой\n",
        "# и пятой позицией и склейкой их через UNION, но запрос бы получился неоправданно длинным с дублированием многих строк. \n",
        "# Помимо этого запрос выглядит довольно синтетическим и мне трудно придумать с какой целью, \n",
        "# нам понадобился работодатель с конкретной позиции списка.\n",
        "query_5_1 = f'''select e.name, count(v.id) cnt\n",
        "                from vacancies v\n",
        "                left join employers e on v.employer_id=e.id\n",
        "                group by 1\n",
        "                order by 2 desc\n",
        "                limit 5\n",
        "            '''"
      ]
    },
    {
      "cell_type": "code",
      "execution_count": 23,
      "id": "64tOMkAxqkQk",
      "metadata": {
        "id": "64tOMkAxqkQk"
      },
      "outputs": [
        {
          "name": "stderr",
          "output_type": "stream",
          "text": [
            "C:\\Users\\andrv\\AppData\\Local\\Temp\\ipykernel_24572\\3834399874.py:2: UserWarning: pandas only supports SQLAlchemy connectable (engine/connection) or database string URI or sqlite3 DBAPI2 connection. Other DBAPI2 objects are not tested. Please consider using SQLAlchemy.\n",
            "  df = pd.read_sql_query(query_5_1, connection)\n"
          ]
        },
        {
          "data": {
            "text/html": [
              "<div>\n",
              "<style scoped>\n",
              "    .dataframe tbody tr th:only-of-type {\n",
              "        vertical-align: middle;\n",
              "    }\n",
              "\n",
              "    .dataframe tbody tr th {\n",
              "        vertical-align: top;\n",
              "    }\n",
              "\n",
              "    .dataframe thead th {\n",
              "        text-align: right;\n",
              "    }\n",
              "</style>\n",
              "<table border=\"1\" class=\"dataframe\">\n",
              "  <thead>\n",
              "    <tr style=\"text-align: right;\">\n",
              "      <th></th>\n",
              "      <th>name</th>\n",
              "      <th>cnt</th>\n",
              "    </tr>\n",
              "  </thead>\n",
              "  <tbody>\n",
              "    <tr>\n",
              "      <th>0</th>\n",
              "      <td>Яндекс</td>\n",
              "      <td>1933</td>\n",
              "    </tr>\n",
              "    <tr>\n",
              "      <th>1</th>\n",
              "      <td>Ростелеком</td>\n",
              "      <td>491</td>\n",
              "    </tr>\n",
              "    <tr>\n",
              "      <th>2</th>\n",
              "      <td>Тинькофф</td>\n",
              "      <td>444</td>\n",
              "    </tr>\n",
              "    <tr>\n",
              "      <th>3</th>\n",
              "      <td>СБЕР</td>\n",
              "      <td>428</td>\n",
              "    </tr>\n",
              "    <tr>\n",
              "      <th>4</th>\n",
              "      <td>Газпром нефть</td>\n",
              "      <td>331</td>\n",
              "    </tr>\n",
              "  </tbody>\n",
              "</table>\n",
              "</div>"
            ],
            "text/plain": [
              "            name   cnt\n",
              "0         Яндекс  1933\n",
              "1     Ростелеком   491\n",
              "2       Тинькофф   444\n",
              "3           СБЕР   428\n",
              "4  Газпром нефть   331"
            ]
          },
          "execution_count": 23,
          "metadata": {},
          "output_type": "execute_result"
        }
      ],
      "source": [
        "# результат запроса\n",
        "df = pd.read_sql_query(query_5_1, connection)\n",
        "df"
      ]
    },
    {
      "cell_type": "markdown",
      "id": "68377cfc-b378-43dc-ab7d-1195abf2c515",
      "metadata": {
        "id": "68377cfc-b378-43dc-ab7d-1195abf2c515"
      },
      "source": [
        "2. Напишите запрос, который для каждого региона выведет количество работодателей и вакансий в нём.\n",
        "Среди регионов, в которых нет вакансий, найдите тот, в котором наибольшее количество работодателей.\n"
      ]
    },
    {
      "cell_type": "code",
      "execution_count": 24,
      "id": "99cb0cc2",
      "metadata": {},
      "outputs": [],
      "source": [
        "# текст запроса. С этим заданием у меня возникли проблемы. Мой изначальный код был таким:\n",
        "#query_5_2 = f'''select a.name, count(distinct e.id) employers, count(distinct v.id) vacancies\n",
        "#                from areas a \n",
        "#                left join employers e on a.id=e.area\n",
        "#                left join vacancies v on v.area_id=e.area\n",
        "#                group by 1\n",
        "#                order by 3, 2 desc\n",
        "#            '''\n",
        "# И теоритически, он полностью выполнял задание, но при запуске запроса в следующем блоке, результата не давал, \n",
        "# а просто бесконечно выполнялся (максимум я прождал пол часа). В чем причина бесконечной обработки запроса так и не понял. Проверял и в VSCode \n",
        "# и на сайте https://www.metabase.com/ причем если убрать из SELECT distinct для обеих агрегатных функций, то результат выдает, но считает, \n",
        "# естесственно, не правильно. Приходится добавлять условие where v.id is null и код начинает работать, но информативность третьего столбца сразу \n",
        "# пропадает - там одни 0. И как быть если мы захотим посмотреть количество работодателей в регионе, где есть открытые вакансии не понятно.\n",
        "query_5_2 = f'''select a.name, count(distinct e.id) employers, count(distinct v.id) vacancies\n",
        "                from areas a \n",
        "                left join employers e on a.id=e.area\n",
        "                left join vacancies v on v.area_id=e.area\n",
        "                where v.id is null\n",
        "                group by 1\n",
        "                order by 3, 2 desc\n",
        "            '''"
      ]
    },
    {
      "cell_type": "code",
      "execution_count": 25,
      "id": "f61b3922",
      "metadata": {},
      "outputs": [
        {
          "name": "stderr",
          "output_type": "stream",
          "text": [
            "C:\\Users\\andrv\\AppData\\Local\\Temp\\ipykernel_24572\\3341481329.py:1: UserWarning: pandas only supports SQLAlchemy connectable (engine/connection) or database string URI or sqlite3 DBAPI2 connection. Other DBAPI2 objects are not tested. Please consider using SQLAlchemy.\n",
            "  df = pd.read_sql_query(query_5_2, connection)\n"
          ]
        },
        {
          "data": {
            "text/html": [
              "<div>\n",
              "<style scoped>\n",
              "    .dataframe tbody tr th:only-of-type {\n",
              "        vertical-align: middle;\n",
              "    }\n",
              "\n",
              "    .dataframe tbody tr th {\n",
              "        vertical-align: top;\n",
              "    }\n",
              "\n",
              "    .dataframe thead th {\n",
              "        text-align: right;\n",
              "    }\n",
              "</style>\n",
              "<table border=\"1\" class=\"dataframe\">\n",
              "  <thead>\n",
              "    <tr style=\"text-align: right;\">\n",
              "      <th></th>\n",
              "      <th>name</th>\n",
              "      <th>employers</th>\n",
              "      <th>vacancies</th>\n",
              "    </tr>\n",
              "  </thead>\n",
              "  <tbody>\n",
              "    <tr>\n",
              "      <th>0</th>\n",
              "      <td>Россия</td>\n",
              "      <td>410</td>\n",
              "      <td>0</td>\n",
              "    </tr>\n",
              "    <tr>\n",
              "      <th>1</th>\n",
              "      <td>Казахстан</td>\n",
              "      <td>207</td>\n",
              "      <td>0</td>\n",
              "    </tr>\n",
              "    <tr>\n",
              "      <th>2</th>\n",
              "      <td>Московская область</td>\n",
              "      <td>75</td>\n",
              "      <td>0</td>\n",
              "    </tr>\n",
              "    <tr>\n",
              "      <th>3</th>\n",
              "      <td>Краснодарский край</td>\n",
              "      <td>19</td>\n",
              "      <td>0</td>\n",
              "    </tr>\n",
              "    <tr>\n",
              "      <th>4</th>\n",
              "      <td>Беларусь</td>\n",
              "      <td>18</td>\n",
              "      <td>0</td>\n",
              "    </tr>\n",
              "    <tr>\n",
              "      <th>...</th>\n",
              "      <td>...</td>\n",
              "      <td>...</td>\n",
              "      <td>...</td>\n",
              "    </tr>\n",
              "    <tr>\n",
              "      <th>889</th>\n",
              "      <td>Жабинка</td>\n",
              "      <td>0</td>\n",
              "      <td>0</td>\n",
              "    </tr>\n",
              "    <tr>\n",
              "      <th>890</th>\n",
              "      <td>Железногорск-Илимский</td>\n",
              "      <td>0</td>\n",
              "      <td>0</td>\n",
              "    </tr>\n",
              "    <tr>\n",
              "      <th>891</th>\n",
              "      <td>Жетысай</td>\n",
              "      <td>0</td>\n",
              "      <td>0</td>\n",
              "    </tr>\n",
              "    <tr>\n",
              "      <th>892</th>\n",
              "      <td>Жигалово</td>\n",
              "      <td>0</td>\n",
              "      <td>0</td>\n",
              "    </tr>\n",
              "    <tr>\n",
              "      <th>893</th>\n",
              "      <td>Жирновск</td>\n",
              "      <td>0</td>\n",
              "      <td>0</td>\n",
              "    </tr>\n",
              "  </tbody>\n",
              "</table>\n",
              "<p>894 rows × 3 columns</p>\n",
              "</div>"
            ],
            "text/plain": [
              "                      name  employers  vacancies\n",
              "0                   Россия        410          0\n",
              "1                Казахстан        207          0\n",
              "2       Московская область         75          0\n",
              "3       Краснодарский край         19          0\n",
              "4                 Беларусь         18          0\n",
              "..                     ...        ...        ...\n",
              "889                Жабинка          0          0\n",
              "890  Железногорск-Илимский          0          0\n",
              "891                Жетысай          0          0\n",
              "892               Жигалово          0          0\n",
              "893               Жирновск          0          0\n",
              "\n",
              "[894 rows x 3 columns]"
            ]
          },
          "execution_count": 25,
          "metadata": {},
          "output_type": "execute_result"
        }
      ],
      "source": [
        "df = pd.read_sql_query(query_5_2, connection)\n",
        "df"
      ]
    },
    {
      "cell_type": "markdown",
      "id": "f2fe0acb-ab1a-4e15-9326-2560e22d73c1",
      "metadata": {
        "id": "f2fe0acb-ab1a-4e15-9326-2560e22d73c1"
      },
      "source": [
        "3. Для каждого работодателя посчитайте количество регионов, в которых он публикует свои вакансии. Отсортируйте результат по убыванию количества.\n"
      ]
    },
    {
      "cell_type": "code",
      "execution_count": 26,
      "id": "6271f8ad-bd2e-4196-ae4a-5b39c4c1010e",
      "metadata": {
        "id": "6271f8ad-bd2e-4196-ae4a-5b39c4c1010e"
      },
      "outputs": [],
      "source": [
        "# текст запроса\n",
        "query_5_3 = f'''select e.name employer, count(distinct v.area_id) cnt\n",
        "                from vacancies v\n",
        "                left join employers e on v.employer_id=e.id\n",
        "                group by 1\n",
        "                order by 2 desc\n",
        "            '''"
      ]
    },
    {
      "cell_type": "code",
      "execution_count": 27,
      "id": "1EIvX3HasH4F",
      "metadata": {
        "id": "1EIvX3HasH4F"
      },
      "outputs": [
        {
          "name": "stderr",
          "output_type": "stream",
          "text": [
            "C:\\Users\\andrv\\AppData\\Local\\Temp\\ipykernel_24572\\201667002.py:2: UserWarning: pandas only supports SQLAlchemy connectable (engine/connection) or database string URI or sqlite3 DBAPI2 connection. Other DBAPI2 objects are not tested. Please consider using SQLAlchemy.\n",
            "  df = pd.read_sql_query(query_5_3, connection)\n"
          ]
        },
        {
          "data": {
            "text/html": [
              "<div>\n",
              "<style scoped>\n",
              "    .dataframe tbody tr th:only-of-type {\n",
              "        vertical-align: middle;\n",
              "    }\n",
              "\n",
              "    .dataframe tbody tr th {\n",
              "        vertical-align: top;\n",
              "    }\n",
              "\n",
              "    .dataframe thead th {\n",
              "        text-align: right;\n",
              "    }\n",
              "</style>\n",
              "<table border=\"1\" class=\"dataframe\">\n",
              "  <thead>\n",
              "    <tr style=\"text-align: right;\">\n",
              "      <th></th>\n",
              "      <th>employer</th>\n",
              "      <th>cnt</th>\n",
              "    </tr>\n",
              "  </thead>\n",
              "  <tbody>\n",
              "    <tr>\n",
              "      <th>0</th>\n",
              "      <td>Яндекс</td>\n",
              "      <td>181</td>\n",
              "    </tr>\n",
              "    <tr>\n",
              "      <th>1</th>\n",
              "      <td>Ростелеком</td>\n",
              "      <td>152</td>\n",
              "    </tr>\n",
              "    <tr>\n",
              "      <th>2</th>\n",
              "      <td>Спецремонт</td>\n",
              "      <td>116</td>\n",
              "    </tr>\n",
              "    <tr>\n",
              "      <th>3</th>\n",
              "      <td>Поляков Денис Иванович</td>\n",
              "      <td>88</td>\n",
              "    </tr>\n",
              "    <tr>\n",
              "      <th>4</th>\n",
              "      <td>ООО ЕФИН</td>\n",
              "      <td>71</td>\n",
              "    </tr>\n",
              "    <tr>\n",
              "      <th>...</th>\n",
              "      <td>...</td>\n",
              "      <td>...</td>\n",
              "    </tr>\n",
              "    <tr>\n",
              "      <th>14761</th>\n",
              "      <td>UniSol</td>\n",
              "      <td>1</td>\n",
              "    </tr>\n",
              "    <tr>\n",
              "      <th>14762</th>\n",
              "      <td>UNISTORY LLC</td>\n",
              "      <td>1</td>\n",
              "    </tr>\n",
              "    <tr>\n",
              "      <th>14763</th>\n",
              "      <td>UNIT6</td>\n",
              "      <td>1</td>\n",
              "    </tr>\n",
              "    <tr>\n",
              "      <th>14764</th>\n",
              "      <td>United Distribution</td>\n",
              "      <td>1</td>\n",
              "    </tr>\n",
              "    <tr>\n",
              "      <th>14765</th>\n",
              "      <td>UNITEL LLC</td>\n",
              "      <td>1</td>\n",
              "    </tr>\n",
              "  </tbody>\n",
              "</table>\n",
              "<p>14766 rows × 2 columns</p>\n",
              "</div>"
            ],
            "text/plain": [
              "                     employer  cnt\n",
              "0                      Яндекс  181\n",
              "1                  Ростелеком  152\n",
              "2                  Спецремонт  116\n",
              "3      Поляков Денис Иванович   88\n",
              "4                   ООО ЕФИН    71\n",
              "...                       ...  ...\n",
              "14761                  UniSol    1\n",
              "14762            UNISTORY LLC    1\n",
              "14763                   UNIT6    1\n",
              "14764     United Distribution    1\n",
              "14765              UNITEL LLC    1\n",
              "\n",
              "[14766 rows x 2 columns]"
            ]
          },
          "execution_count": 27,
          "metadata": {},
          "output_type": "execute_result"
        }
      ],
      "source": [
        "# результат запроса\n",
        "df = pd.read_sql_query(query_5_3, connection)\n",
        "df"
      ]
    },
    {
      "cell_type": "markdown",
      "id": "eab2206d-d95b-468b-8e5f-34381abf0ce7",
      "metadata": {
        "id": "eab2206d-d95b-468b-8e5f-34381abf0ce7"
      },
      "source": [
        "4. Напишите запрос для подсчёта количества работодателей, у которых не указана сфера деятельности. "
      ]
    },
    {
      "cell_type": "code",
      "execution_count": 28,
      "id": "80defb23-bfb1-4a18-8be6-bf36aa7165d5",
      "metadata": {
        "id": "80defb23-bfb1-4a18-8be6-bf36aa7165d5"
      },
      "outputs": [],
      "source": [
        "# текст запроса\n",
        "query_5_4 = f'''select count(distinct e.id)\n",
        "                from employers e\n",
        "                left join employers_industries s on e.id=s.employer_id\n",
        "                where s.industry_id is null\n",
        "            '''"
      ]
    },
    {
      "cell_type": "code",
      "execution_count": 29,
      "id": "Dp_yCx6ysQSu",
      "metadata": {
        "id": "Dp_yCx6ysQSu"
      },
      "outputs": [
        {
          "name": "stderr",
          "output_type": "stream",
          "text": [
            "C:\\Users\\andrv\\AppData\\Local\\Temp\\ipykernel_24572\\3493105328.py:2: UserWarning: pandas only supports SQLAlchemy connectable (engine/connection) or database string URI or sqlite3 DBAPI2 connection. Other DBAPI2 objects are not tested. Please consider using SQLAlchemy.\n",
            "  df = pd.read_sql_query(query_5_4, connection)\n"
          ]
        },
        {
          "data": {
            "text/html": [
              "<div>\n",
              "<style scoped>\n",
              "    .dataframe tbody tr th:only-of-type {\n",
              "        vertical-align: middle;\n",
              "    }\n",
              "\n",
              "    .dataframe tbody tr th {\n",
              "        vertical-align: top;\n",
              "    }\n",
              "\n",
              "    .dataframe thead th {\n",
              "        text-align: right;\n",
              "    }\n",
              "</style>\n",
              "<table border=\"1\" class=\"dataframe\">\n",
              "  <thead>\n",
              "    <tr style=\"text-align: right;\">\n",
              "      <th></th>\n",
              "      <th>count</th>\n",
              "    </tr>\n",
              "  </thead>\n",
              "  <tbody>\n",
              "    <tr>\n",
              "      <th>0</th>\n",
              "      <td>8419</td>\n",
              "    </tr>\n",
              "  </tbody>\n",
              "</table>\n",
              "</div>"
            ],
            "text/plain": [
              "   count\n",
              "0   8419"
            ]
          },
          "execution_count": 29,
          "metadata": {},
          "output_type": "execute_result"
        }
      ],
      "source": [
        "# результат запроса\n",
        "df = pd.read_sql_query(query_5_4, connection)\n",
        "df"
      ]
    },
    {
      "cell_type": "markdown",
      "id": "0112af31-f6b0-4e3b-82ab-71296e752e5e",
      "metadata": {
        "id": "0112af31-f6b0-4e3b-82ab-71296e752e5e"
      },
      "source": [
        "5. Напишите запрос, чтобы узнать название компании, находящейся на третьем месте в алфавитном списке (по названию) компаний, у которых указано четыре сферы деятельности. "
      ]
    },
    {
      "cell_type": "code",
      "execution_count": 30,
      "id": "973b0cfc-a972-470a-8b4a-68744ef220c4",
      "metadata": {
        "id": "973b0cfc-a972-470a-8b4a-68744ef220c4"
      },
      "outputs": [],
      "source": [
        "# текст запроса\n",
        "query_5_5 = f'''select e.name, count(s.industry_id)\n",
        "                from employers e\n",
        "                left join employers_industries s on e.id=s.employer_id\n",
        "                group by 1\n",
        "                having count(s.industry_id)=4\n",
        "                order by 1\n",
        "                offset 2\n",
        "                limit 1\n",
        "            '''"
      ]
    },
    {
      "cell_type": "code",
      "execution_count": 31,
      "id": "xsPtpp8EsaED",
      "metadata": {
        "id": "xsPtpp8EsaED"
      },
      "outputs": [
        {
          "name": "stderr",
          "output_type": "stream",
          "text": [
            "C:\\Users\\andrv\\AppData\\Local\\Temp\\ipykernel_24572\\388711819.py:2: UserWarning: pandas only supports SQLAlchemy connectable (engine/connection) or database string URI or sqlite3 DBAPI2 connection. Other DBAPI2 objects are not tested. Please consider using SQLAlchemy.\n",
            "  df = pd.read_sql_query(query_5_5, connection)\n"
          ]
        },
        {
          "data": {
            "text/html": [
              "<div>\n",
              "<style scoped>\n",
              "    .dataframe tbody tr th:only-of-type {\n",
              "        vertical-align: middle;\n",
              "    }\n",
              "\n",
              "    .dataframe tbody tr th {\n",
              "        vertical-align: top;\n",
              "    }\n",
              "\n",
              "    .dataframe thead th {\n",
              "        text-align: right;\n",
              "    }\n",
              "</style>\n",
              "<table border=\"1\" class=\"dataframe\">\n",
              "  <thead>\n",
              "    <tr style=\"text-align: right;\">\n",
              "      <th></th>\n",
              "      <th>name</th>\n",
              "      <th>count</th>\n",
              "    </tr>\n",
              "  </thead>\n",
              "  <tbody>\n",
              "    <tr>\n",
              "      <th>0</th>\n",
              "      <td>2ГИС</td>\n",
              "      <td>4</td>\n",
              "    </tr>\n",
              "  </tbody>\n",
              "</table>\n",
              "</div>"
            ],
            "text/plain": [
              "   name  count\n",
              "0  2ГИС      4"
            ]
          },
          "execution_count": 31,
          "metadata": {},
          "output_type": "execute_result"
        }
      ],
      "source": [
        "# результат запроса\n",
        "df = pd.read_sql_query(query_5_5, connection)\n",
        "df"
      ]
    },
    {
      "cell_type": "markdown",
      "id": "3bfcfdaf-755d-4d2b-8ed8-326201dc07ab",
      "metadata": {
        "id": "3bfcfdaf-755d-4d2b-8ed8-326201dc07ab"
      },
      "source": [
        "6. С помощью запроса выясните, у какого количества работодателей в качестве сферы деятельности указана Разработка программного обеспечения.\n"
      ]
    },
    {
      "cell_type": "code",
      "execution_count": 32,
      "id": "ad3f270f-2991-47eb-929b-e8f88a55b0d1",
      "metadata": {
        "id": "ad3f270f-2991-47eb-929b-e8f88a55b0d1"
      },
      "outputs": [],
      "source": [
        "# текст запроса\n",
        "query_5_6 = f'''select count(distinct s.employer_id)\n",
        "                from employers_industries s\n",
        "                left join industries i on i.id=s.industry_id\n",
        "                where i.name = 'Разработка программного обеспечения' \n",
        "            '''"
      ]
    },
    {
      "cell_type": "code",
      "execution_count": 33,
      "id": "H72qxWM0shPR",
      "metadata": {
        "id": "H72qxWM0shPR"
      },
      "outputs": [
        {
          "name": "stderr",
          "output_type": "stream",
          "text": [
            "C:\\Users\\andrv\\AppData\\Local\\Temp\\ipykernel_24572\\821628714.py:2: UserWarning: pandas only supports SQLAlchemy connectable (engine/connection) or database string URI or sqlite3 DBAPI2 connection. Other DBAPI2 objects are not tested. Please consider using SQLAlchemy.\n",
            "  df = pd.read_sql_query(query_5_6, connection)\n"
          ]
        },
        {
          "data": {
            "text/html": [
              "<div>\n",
              "<style scoped>\n",
              "    .dataframe tbody tr th:only-of-type {\n",
              "        vertical-align: middle;\n",
              "    }\n",
              "\n",
              "    .dataframe tbody tr th {\n",
              "        vertical-align: top;\n",
              "    }\n",
              "\n",
              "    .dataframe thead th {\n",
              "        text-align: right;\n",
              "    }\n",
              "</style>\n",
              "<table border=\"1\" class=\"dataframe\">\n",
              "  <thead>\n",
              "    <tr style=\"text-align: right;\">\n",
              "      <th></th>\n",
              "      <th>count</th>\n",
              "    </tr>\n",
              "  </thead>\n",
              "  <tbody>\n",
              "    <tr>\n",
              "      <th>0</th>\n",
              "      <td>3553</td>\n",
              "    </tr>\n",
              "  </tbody>\n",
              "</table>\n",
              "</div>"
            ],
            "text/plain": [
              "   count\n",
              "0   3553"
            ]
          },
          "execution_count": 33,
          "metadata": {},
          "output_type": "execute_result"
        }
      ],
      "source": [
        "# результат запроса\n",
        "df = pd.read_sql_query(query_5_6, connection)\n",
        "df"
      ]
    },
    {
      "cell_type": "markdown",
      "id": "7b02bb86-0546-40fb-94a4-242f050a5c57",
      "metadata": {
        "id": "7b02bb86-0546-40fb-94a4-242f050a5c57"
      },
      "source": [
        "7. Для компании «Яндекс» выведите список регионов-миллионников, в которых представлены вакансии компании, вместе с количеством вакансий в этих регионах. Также добавьте строку Total с общим количеством вакансий компании. Результат отсортируйте по возрастанию количества.\n",
        "\n",
        "Список городов-милионников надо взять [отсюда](https://ru.wikipedia.org/wiki/%D0%93%D0%BE%D1%80%D0%BE%D0%B4%D0%B0-%D0%BC%D0%B8%D0%BB%D0%BB%D0%B8%D0%BE%D0%BD%D0%B5%D1%80%D1%8B_%D0%A0%D0%BE%D1%81%D1%81%D0%B8%D0%B8). \n",
        "\n",
        "Если возникнут трудности с этим задание посмотрите материалы модуля  PYTHON-17. Как получать данные из веб-источников и API. "
      ]
    },
    {
      "cell_type": "code",
      "execution_count": 34,
      "id": "ZdfrL6gIs1Pn",
      "metadata": {
        "id": "ZdfrL6gIs1Pn"
      },
      "outputs": [
        {
          "data": {
            "text/plain": [
              "('Саратов', 'Тюмень')"
            ]
          },
          "metadata": {},
          "output_type": "display_data"
        }
      ],
      "source": [
        "# код для получения списка городов-милионников. Определять индекс таблицы на сайте пришлось методом подбора, \n",
        "# как определить его из кода не понял, но к счастью, долго подбирать не пришлось.\n",
        "import urllib.parse as req\n",
        "\n",
        "path_common = req.urlparse('https://ru.wikipedia.org/wiki/Города-миллионеры_России#Список_городов-миллионеров')\n",
        "url = path_common.scheme + '://' + req.quote(path_common.netloc) +  req.quote(path_common.path) + '#'+ req.quote(path_common.fragment)\n",
        "\n",
        "cities=pd.read_html(url)[1]\n",
        "cities=tuple(cities['Город'])\n",
        "display(cities)"
      ]
    },
    {
      "cell_type": "code",
      "execution_count": 35,
      "id": "5a0e32a4-e68a-4365-8a39-2fe24c542c36",
      "metadata": {
        "id": "5a0e32a4-e68a-4365-8a39-2fe24c542c36"
      },
      "outputs": [],
      "source": [
        "# текст запроса. Для выполнения задания пришлось дублировать объединение таблиц датасета, возможно есть более элегантное решение, но это тоже работает.\n",
        "query_5_7 = f'''select a.name, count(v.id) cnt\n",
        "                from vacancies v\n",
        "                left join areas a on v.area_id=a.id\n",
        "                left join employers e on v.employer_id=e.id\n",
        "                where e.name = 'Яндекс' and a.name in {cities}\n",
        "                group by a.name\n",
        "                \n",
        "                union\n",
        "                select 'Total', count(v.id)\n",
        "                from vacancies v\n",
        "                left join areas a on v.area_id=a.id\n",
        "                left join employers e on v.employer_id=e.id\n",
        "                where e.name = 'Яндекс' and a.name in {cities}\n",
        "                order by 2\n",
        "                \n",
        "            '''"
      ]
    },
    {
      "cell_type": "code",
      "execution_count": 36,
      "id": "ttPhiO1rsvPq",
      "metadata": {
        "id": "ttPhiO1rsvPq"
      },
      "outputs": [
        {
          "name": "stderr",
          "output_type": "stream",
          "text": [
            "C:\\Users\\andrv\\AppData\\Local\\Temp\\ipykernel_24572\\1965596796.py:2: UserWarning: pandas only supports SQLAlchemy connectable (engine/connection) or database string URI or sqlite3 DBAPI2 connection. Other DBAPI2 objects are not tested. Please consider using SQLAlchemy.\n",
            "  df = pd.read_sql_query(query_5_7, connection)\n"
          ]
        },
        {
          "data": {
            "text/html": [
              "<div>\n",
              "<style scoped>\n",
              "    .dataframe tbody tr th:only-of-type {\n",
              "        vertical-align: middle;\n",
              "    }\n",
              "\n",
              "    .dataframe tbody tr th {\n",
              "        vertical-align: top;\n",
              "    }\n",
              "\n",
              "    .dataframe thead th {\n",
              "        text-align: right;\n",
              "    }\n",
              "</style>\n",
              "<table border=\"1\" class=\"dataframe\">\n",
              "  <thead>\n",
              "    <tr style=\"text-align: right;\">\n",
              "      <th></th>\n",
              "      <th>name</th>\n",
              "      <th>cnt</th>\n",
              "    </tr>\n",
              "  </thead>\n",
              "  <tbody>\n",
              "    <tr>\n",
              "      <th>0</th>\n",
              "      <td>Тюмень</td>\n",
              "      <td>20</td>\n",
              "    </tr>\n",
              "    <tr>\n",
              "      <th>1</th>\n",
              "      <td>Саратов</td>\n",
              "      <td>23</td>\n",
              "    </tr>\n",
              "    <tr>\n",
              "      <th>2</th>\n",
              "      <td>Total</td>\n",
              "      <td>43</td>\n",
              "    </tr>\n",
              "  </tbody>\n",
              "</table>\n",
              "</div>"
            ],
            "text/plain": [
              "      name  cnt\n",
              "0   Тюмень   20\n",
              "1  Саратов   23\n",
              "2    Total   43"
            ]
          },
          "execution_count": 36,
          "metadata": {},
          "output_type": "execute_result"
        }
      ],
      "source": [
        "# результат запроса\n",
        "df = pd.read_sql_query(query_5_7, connection)\n",
        "df"
      ]
    },
    {
      "cell_type": "markdown",
      "id": "04966e40-3bc3-4dc8-9ba2-e80580ce3abc",
      "metadata": {
        "id": "04966e40-3bc3-4dc8-9ba2-e80580ce3abc"
      },
      "source": [
        "***"
      ]
    },
    {
      "cell_type": "markdown",
      "id": "708602d4",
      "metadata": {},
      "source": [
        "### Выводы по по анализу работодателей: ###\n",
        "Задания данного юнита позволили нам узнать какие компании лидируют по количеству вакансий в нашем датасете. К нашему счастью, у лидеров списка скорее всего найдется работа для наших клиентов, так как они либо работают непосредственно в ИТ, либо имеют большие объемы данных для обработки, либо и то, и другое!\n",
        "\n",
        "Так же мы узнали, что 3553 из 23501 работодателей нашего датасета занимаются разработкой ПО, что тоже открывает большие перспективы трудоустройства для клиентов агенства.\n",
        "\n",
        "Помимо этого, выяснилось, что лидером по охвату территорий является Яндекс и его вакансии представленны в большем объеме во всех городах-миллионниках."
      ]
    },
    {
      "cell_type": "markdown",
      "id": "b1ef156a-efcb-49ce-bb23-90763e7f35b2",
      "metadata": {
        "id": "b1ef156a-efcb-49ce-bb23-90763e7f35b2",
        "tags": []
      },
      "source": [
        "# Юнит 6. Предметный анализ"
      ]
    },
    {
      "cell_type": "markdown",
      "id": "b9cd50a0-992d-4988-8463-2b2b1c4629b4",
      "metadata": {
        "id": "b9cd50a0-992d-4988-8463-2b2b1c4629b4"
      },
      "source": [
        "1. Сколько вакансий имеет отношение к данным?\n",
        "\n",
        "Считаем, что вакансия имеет отношение к данным, если в её названии содержатся слова 'data' или 'данн'.\n",
        "\n",
        "*Подсказка: Обратите внимание, что названия вакансий могут быть написаны в любом регистре.* \n"
      ]
    },
    {
      "cell_type": "code",
      "execution_count": 37,
      "id": "54ab0e50-c0f1-47cc-a54b-bc5c8bc363f9",
      "metadata": {
        "id": "54ab0e50-c0f1-47cc-a54b-bc5c8bc363f9"
      },
      "outputs": [],
      "source": [
        "# текст запроса. В данном запросе я применил превидение к нижнему регистру для исключения пропусков вакансний, в описании которых использован верхний регистр.\n",
        "query_6_1 = f'''select count(id)\n",
        "                from vacancies\n",
        "                where lower(name) like '%data%' or lower(name) like '%данн%'\n",
        "            '''"
      ]
    },
    {
      "cell_type": "code",
      "execution_count": 38,
      "id": "9F1meAqsuUjd",
      "metadata": {
        "id": "9F1meAqsuUjd"
      },
      "outputs": [
        {
          "name": "stderr",
          "output_type": "stream",
          "text": [
            "C:\\Users\\andrv\\AppData\\Local\\Temp\\ipykernel_24572\\366702258.py:2: UserWarning: pandas only supports SQLAlchemy connectable (engine/connection) or database string URI or sqlite3 DBAPI2 connection. Other DBAPI2 objects are not tested. Please consider using SQLAlchemy.\n",
            "  df = pd.read_sql_query(query_6_1, connection)\n"
          ]
        },
        {
          "data": {
            "text/html": [
              "<div>\n",
              "<style scoped>\n",
              "    .dataframe tbody tr th:only-of-type {\n",
              "        vertical-align: middle;\n",
              "    }\n",
              "\n",
              "    .dataframe tbody tr th {\n",
              "        vertical-align: top;\n",
              "    }\n",
              "\n",
              "    .dataframe thead th {\n",
              "        text-align: right;\n",
              "    }\n",
              "</style>\n",
              "<table border=\"1\" class=\"dataframe\">\n",
              "  <thead>\n",
              "    <tr style=\"text-align: right;\">\n",
              "      <th></th>\n",
              "      <th>count</th>\n",
              "    </tr>\n",
              "  </thead>\n",
              "  <tbody>\n",
              "    <tr>\n",
              "      <th>0</th>\n",
              "      <td>1771</td>\n",
              "    </tr>\n",
              "  </tbody>\n",
              "</table>\n",
              "</div>"
            ],
            "text/plain": [
              "   count\n",
              "0   1771"
            ]
          },
          "execution_count": 38,
          "metadata": {},
          "output_type": "execute_result"
        }
      ],
      "source": [
        "# результат запроса\n",
        "df = pd.read_sql_query(query_6_1, connection)\n",
        "df"
      ]
    },
    {
      "cell_type": "markdown",
      "id": "4dea20cb-a36b-474a-a0b9-e08e8e3857a5",
      "metadata": {
        "id": "4dea20cb-a36b-474a-a0b9-e08e8e3857a5"
      },
      "source": [
        "2. Сколько есть подходящих вакансий для начинающего дата-сайентиста? \n",
        "Будем считать вакансиями для дата-сайентистов такие, в названии которых есть хотя бы одно из следующих сочетаний:\n",
        "* 'data scientist'\n",
        "* 'data science'\n",
        "* 'исследователь данных'\n",
        "* 'ML' (здесь не нужно брать вакансии по HTML)\n",
        "* 'machine learning'\n",
        "* 'машинн%обучен%'\n",
        "\n",
        "** В следующих заданиях мы продолжим работать с вакансиями по этому условию.*\n",
        "\n",
        "Считаем вакансиями для специалистов уровня Junior следующие:\n",
        "* в названии есть слово 'junior' *или*\n",
        "* требуемый опыт — Нет опыта *или*\n",
        "* тип трудоустройства — Стажировка.\n",
        " "
      ]
    },
    {
      "cell_type": "code",
      "execution_count": 39,
      "id": "9c61b3c0-bb66-46c9-ae1e-81d3f5752b4a",
      "metadata": {
        "id": "9c61b3c0-bb66-46c9-ae1e-81d3f5752b4a"
      },
      "outputs": [],
      "source": [
        "# текст запроса. А в данном случае использовал метод ilike для решения проблемы с регистрами. Сам запрос не сложный, но громоздкий из-за большого количества условий.\n",
        "query_6_2 = f'''select count(distinct id)\n",
        "                from vacancies\n",
        "                where ((name ilike '%data scientist%'\n",
        "                or name ilike '%data science%' \n",
        "                or name ilike '%исследователь данных%'\n",
        "                or name ilike '%machine learning%'\n",
        "                or name ilike '%машинн%обучен%')\n",
        "                or (name not like '%HTML%' and name like '%ML%'))\n",
        "                and (name ilike '%junior%' \n",
        "                or experience ilike '%нет опыта%' \n",
        "                or employment ilike '%стажировка%')\n",
        "            '''"
      ]
    },
    {
      "cell_type": "code",
      "execution_count": 40,
      "id": "ZNM-LLYuu1dj",
      "metadata": {
        "id": "ZNM-LLYuu1dj"
      },
      "outputs": [
        {
          "name": "stderr",
          "output_type": "stream",
          "text": [
            "C:\\Users\\andrv\\AppData\\Local\\Temp\\ipykernel_24572\\2267038862.py:2: UserWarning: pandas only supports SQLAlchemy connectable (engine/connection) or database string URI or sqlite3 DBAPI2 connection. Other DBAPI2 objects are not tested. Please consider using SQLAlchemy.\n",
            "  df = pd.read_sql_query(query_6_2, connection)\n"
          ]
        },
        {
          "data": {
            "text/html": [
              "<div>\n",
              "<style scoped>\n",
              "    .dataframe tbody tr th:only-of-type {\n",
              "        vertical-align: middle;\n",
              "    }\n",
              "\n",
              "    .dataframe tbody tr th {\n",
              "        vertical-align: top;\n",
              "    }\n",
              "\n",
              "    .dataframe thead th {\n",
              "        text-align: right;\n",
              "    }\n",
              "</style>\n",
              "<table border=\"1\" class=\"dataframe\">\n",
              "  <thead>\n",
              "    <tr style=\"text-align: right;\">\n",
              "      <th></th>\n",
              "      <th>count</th>\n",
              "    </tr>\n",
              "  </thead>\n",
              "  <tbody>\n",
              "    <tr>\n",
              "      <th>0</th>\n",
              "      <td>51</td>\n",
              "    </tr>\n",
              "  </tbody>\n",
              "</table>\n",
              "</div>"
            ],
            "text/plain": [
              "   count\n",
              "0     51"
            ]
          },
          "execution_count": 40,
          "metadata": {},
          "output_type": "execute_result"
        }
      ],
      "source": [
        "# результат запроса\n",
        "df = pd.read_sql_query(query_6_2, connection)\n",
        "df"
      ]
    },
    {
      "cell_type": "markdown",
      "id": "eedceb80-c5ca-480e-b27a-278dfb8b4438",
      "metadata": {
        "id": "eedceb80-c5ca-480e-b27a-278dfb8b4438"
      },
      "source": [
        "3. Сколько есть вакансий для DS, в которых в качестве ключевого навыка указан SQL или postgres?\n",
        "\n",
        "** Критерии для отнесения вакансии к DS указаны в предыдущем задании.*"
      ]
    },
    {
      "cell_type": "code",
      "execution_count": 41,
      "id": "69621713-0cc5-4f1b-a1d7-bb144fa6148c",
      "metadata": {
        "id": "69621713-0cc5-4f1b-a1d7-bb144fa6148c"
      },
      "outputs": [],
      "source": [
        "# текст запроса. В этом и следующем запросах меняются только дополнительные условия.\n",
        "query_6_3 = f'''select count(distinct id)\n",
        "                from vacancies\n",
        "                where ((name ilike '%data scientist%'\n",
        "                or name ilike '%data science%' \n",
        "                or name ilike '%исследователь данных%'\n",
        "                or name ilike '%machine learning%'\n",
        "                or name ilike '%машинн%обучен%')\n",
        "                or (name not like '%HTML%' and name like '%ML%'))\n",
        "                and (key_skills ilike '%SQL%'\n",
        "                or key_skills ilike '%postgres%')\n",
        "            '''"
      ]
    },
    {
      "cell_type": "code",
      "execution_count": 42,
      "id": "alA8WEAAvGdf",
      "metadata": {
        "id": "alA8WEAAvGdf"
      },
      "outputs": [
        {
          "name": "stderr",
          "output_type": "stream",
          "text": [
            "C:\\Users\\andrv\\AppData\\Local\\Temp\\ipykernel_24572\\3794299702.py:2: UserWarning: pandas only supports SQLAlchemy connectable (engine/connection) or database string URI or sqlite3 DBAPI2 connection. Other DBAPI2 objects are not tested. Please consider using SQLAlchemy.\n",
            "  df = pd.read_sql_query(query_6_3, connection)\n"
          ]
        },
        {
          "data": {
            "text/html": [
              "<div>\n",
              "<style scoped>\n",
              "    .dataframe tbody tr th:only-of-type {\n",
              "        vertical-align: middle;\n",
              "    }\n",
              "\n",
              "    .dataframe tbody tr th {\n",
              "        vertical-align: top;\n",
              "    }\n",
              "\n",
              "    .dataframe thead th {\n",
              "        text-align: right;\n",
              "    }\n",
              "</style>\n",
              "<table border=\"1\" class=\"dataframe\">\n",
              "  <thead>\n",
              "    <tr style=\"text-align: right;\">\n",
              "      <th></th>\n",
              "      <th>count</th>\n",
              "    </tr>\n",
              "  </thead>\n",
              "  <tbody>\n",
              "    <tr>\n",
              "      <th>0</th>\n",
              "      <td>201</td>\n",
              "    </tr>\n",
              "  </tbody>\n",
              "</table>\n",
              "</div>"
            ],
            "text/plain": [
              "   count\n",
              "0    201"
            ]
          },
          "execution_count": 42,
          "metadata": {},
          "output_type": "execute_result"
        }
      ],
      "source": [
        "# результат запроса\n",
        "df = pd.read_sql_query(query_6_3, connection)\n",
        "df"
      ]
    },
    {
      "cell_type": "markdown",
      "id": "1be1e9c6-37cf-4a5f-bfeb-04cab799dc80",
      "metadata": {
        "id": "1be1e9c6-37cf-4a5f-bfeb-04cab799dc80"
      },
      "source": [
        "4. Проверьте, насколько популярен Python в требованиях работодателей к DS.Для этого вычислите количество вакансий, в которых в качестве ключевого навыка указан Python.\n",
        "\n",
        "** Это можно сделать помощью запроса, аналогичного предыдущему.*"
      ]
    },
    {
      "cell_type": "code",
      "execution_count": 43,
      "id": "0036a355-9ccf-4564-8b01-73d8194297e7",
      "metadata": {
        "id": "0036a355-9ccf-4564-8b01-73d8194297e7"
      },
      "outputs": [],
      "source": [
        "# текст запроса\n",
        "query_6_4 = f'''select count(distinct id)\n",
        "                from vacancies\n",
        "                where ((name ilike '%data scientist%'\n",
        "                or name ilike '%data science%' \n",
        "                or name ilike '%исследователь данных%'\n",
        "                or name ilike '%machine learning%'\n",
        "                or name ilike '%машинн%обучен%')\n",
        "                or (name not like '%HTML%' and name like '%ML%'))\n",
        "                and (key_skills ilike '%Python%')\n",
        "            '''"
      ]
    },
    {
      "cell_type": "code",
      "execution_count": 44,
      "id": "1i-5WyucvQ6v",
      "metadata": {
        "id": "1i-5WyucvQ6v"
      },
      "outputs": [
        {
          "name": "stderr",
          "output_type": "stream",
          "text": [
            "C:\\Users\\andrv\\AppData\\Local\\Temp\\ipykernel_24572\\4264665179.py:2: UserWarning: pandas only supports SQLAlchemy connectable (engine/connection) or database string URI or sqlite3 DBAPI2 connection. Other DBAPI2 objects are not tested. Please consider using SQLAlchemy.\n",
            "  df = pd.read_sql_query(query_6_4, connection)\n"
          ]
        },
        {
          "data": {
            "text/html": [
              "<div>\n",
              "<style scoped>\n",
              "    .dataframe tbody tr th:only-of-type {\n",
              "        vertical-align: middle;\n",
              "    }\n",
              "\n",
              "    .dataframe tbody tr th {\n",
              "        vertical-align: top;\n",
              "    }\n",
              "\n",
              "    .dataframe thead th {\n",
              "        text-align: right;\n",
              "    }\n",
              "</style>\n",
              "<table border=\"1\" class=\"dataframe\">\n",
              "  <thead>\n",
              "    <tr style=\"text-align: right;\">\n",
              "      <th></th>\n",
              "      <th>count</th>\n",
              "    </tr>\n",
              "  </thead>\n",
              "  <tbody>\n",
              "    <tr>\n",
              "      <th>0</th>\n",
              "      <td>351</td>\n",
              "    </tr>\n",
              "  </tbody>\n",
              "</table>\n",
              "</div>"
            ],
            "text/plain": [
              "   count\n",
              "0    351"
            ]
          },
          "execution_count": 44,
          "metadata": {},
          "output_type": "execute_result"
        }
      ],
      "source": [
        "# результат запроса\n",
        "df = pd.read_sql_query(query_6_4, connection)\n",
        "df"
      ]
    },
    {
      "cell_type": "markdown",
      "id": "ec3c8db7-fa21-4a41-a994-1af63742a642",
      "metadata": {
        "id": "ec3c8db7-fa21-4a41-a994-1af63742a642"
      },
      "source": [
        "5. Сколько ключевых навыков в среднем указывают в вакансиях для DS?\n",
        "Ответ округлите до двух знаков после точки-разделителя."
      ]
    },
    {
      "cell_type": "code",
      "execution_count": 45,
      "id": "949132bc-d5b6-4611-8218-0b9a504d74f4",
      "metadata": {
        "id": "949132bc-d5b6-4611-8218-0b9a504d74f4"
      },
      "outputs": [],
      "source": [
        "# текст запроса. Использована агрегатная функция среднего значения к вычислению изменения длины строки при замене определенного символа пустой строкой.\n",
        "query_6_5 = f'''select round(avg(length(key_skills)-length(replace(key_skills, CHR(9), ''))+1), 2)\n",
        "                from vacancies\n",
        "                where ((name ilike '%data scientist%'\n",
        "                or name ilike '%data science%' \n",
        "                or name ilike '%исследователь данных%'\n",
        "                or name ilike '%machine learning%'\n",
        "                or name ilike '%машинн%обучен%')\n",
        "                or (name not like '%HTML%' and name like '%ML%'))\n",
        "                and key_skills is not null\n",
        "                order by 1\n",
        "            '''"
      ]
    },
    {
      "cell_type": "code",
      "execution_count": 46,
      "id": "a3V24Tvmviqk",
      "metadata": {
        "id": "a3V24Tvmviqk"
      },
      "outputs": [
        {
          "name": "stderr",
          "output_type": "stream",
          "text": [
            "C:\\Users\\andrv\\AppData\\Local\\Temp\\ipykernel_24572\\3654210517.py:2: UserWarning: pandas only supports SQLAlchemy connectable (engine/connection) or database string URI or sqlite3 DBAPI2 connection. Other DBAPI2 objects are not tested. Please consider using SQLAlchemy.\n",
            "  df = pd.read_sql_query(query_6_5, connection)\n"
          ]
        },
        {
          "data": {
            "text/html": [
              "<div>\n",
              "<style scoped>\n",
              "    .dataframe tbody tr th:only-of-type {\n",
              "        vertical-align: middle;\n",
              "    }\n",
              "\n",
              "    .dataframe tbody tr th {\n",
              "        vertical-align: top;\n",
              "    }\n",
              "\n",
              "    .dataframe thead th {\n",
              "        text-align: right;\n",
              "    }\n",
              "</style>\n",
              "<table border=\"1\" class=\"dataframe\">\n",
              "  <thead>\n",
              "    <tr style=\"text-align: right;\">\n",
              "      <th></th>\n",
              "      <th>round</th>\n",
              "    </tr>\n",
              "  </thead>\n",
              "  <tbody>\n",
              "    <tr>\n",
              "      <th>0</th>\n",
              "      <td>6.41</td>\n",
              "    </tr>\n",
              "  </tbody>\n",
              "</table>\n",
              "</div>"
            ],
            "text/plain": [
              "   round\n",
              "0   6.41"
            ]
          },
          "execution_count": 46,
          "metadata": {},
          "output_type": "execute_result"
        }
      ],
      "source": [
        "# результат запроса\n",
        "df = pd.read_sql_query(query_6_5, connection)\n",
        "df"
      ]
    },
    {
      "cell_type": "markdown",
      "id": "1041c17a-ca8f-4543-a0ca-32778914fb00",
      "metadata": {
        "id": "1041c17a-ca8f-4543-a0ca-32778914fb00"
      },
      "source": [
        "6. Напишите запрос, позволяющий вычислить, какую зарплату для DS в **среднем** указывают для каждого типа требуемого опыта (уникальное значение из поля *experience*). \n",
        "\n",
        "При решении задачи примите во внимание следующее:\n",
        "1. Рассматриваем только вакансии, у которых заполнено хотя бы одно из двух полей с зарплатой.\n",
        "2. Если заполнены оба поля с зарплатой, то считаем зарплату по каждой вакансии как сумму двух полей, делённую на 2. Если заполнено только одно из полей, то его и считаем зарплатой по вакансии.\n",
        "3. Если в расчётах участвует null, в результате он тоже даст null (посмотрите, что возвращает запрос select 1 + null). Чтобы избежать этой ситуацию, мы воспользуемся функцией [coalesce](https://postgrespro.ru/docs/postgresql/9.5/functions-conditional#functions-coalesce-nvl-ifnull), которая заменит null на значение, которое мы передадим. Например, посмотрите, что возвращает запрос `select 1 + coalesce(null, 0)`\n",
        "\n",
        "Выясните, на какую зарплату в среднем может рассчитывать дата-сайентист с опытом работы от 3 до 6 лет. Результат округлите до целого числа. "
      ]
    },
    {
      "cell_type": "code",
      "execution_count": 47,
      "id": "6a743d39-5204-48d3-8271-b9f88e68d40e",
      "metadata": {
        "id": "6a743d39-5204-48d3-8271-b9f88e68d40e"
      },
      "outputs": [],
      "source": [
        "# текст запроса. Та же функция усреднения, но теперь в сочетании с coalesce, использованной для замены пропущенных значений.\n",
        "query_6_6 = f'''select experience, round(avg((coalesce(salary_from, salary_to)+coalesce(salary_to, salary_from))/2), 0) as avg_salary\n",
        "                from vacancies\n",
        "                where ((name ilike '%data scientist%'\n",
        "                or name ilike '%data science%' \n",
        "                or name ilike '%исследователь данных%'\n",
        "                or name ilike '%machine learning%'\n",
        "                or name ilike '%машинн%обучен%')\n",
        "                or (name not like '%HTML%' and name like '%ML%'))\n",
        "                and (salary_from is not null or salary_to is not null)\n",
        "                group by experience   \n",
        "            '''"
      ]
    },
    {
      "cell_type": "code",
      "execution_count": 48,
      "id": "aRIJ0mZEwU1_",
      "metadata": {
        "id": "aRIJ0mZEwU1_"
      },
      "outputs": [
        {
          "name": "stderr",
          "output_type": "stream",
          "text": [
            "C:\\Users\\andrv\\AppData\\Local\\Temp\\ipykernel_24572\\519194770.py:2: UserWarning: pandas only supports SQLAlchemy connectable (engine/connection) or database string URI or sqlite3 DBAPI2 connection. Other DBAPI2 objects are not tested. Please consider using SQLAlchemy.\n",
            "  df = pd.read_sql_query(query_6_6, connection)\n"
          ]
        },
        {
          "data": {
            "text/html": [
              "<div>\n",
              "<style scoped>\n",
              "    .dataframe tbody tr th:only-of-type {\n",
              "        vertical-align: middle;\n",
              "    }\n",
              "\n",
              "    .dataframe tbody tr th {\n",
              "        vertical-align: top;\n",
              "    }\n",
              "\n",
              "    .dataframe thead th {\n",
              "        text-align: right;\n",
              "    }\n",
              "</style>\n",
              "<table border=\"1\" class=\"dataframe\">\n",
              "  <thead>\n",
              "    <tr style=\"text-align: right;\">\n",
              "      <th></th>\n",
              "      <th>experience</th>\n",
              "      <th>avg_salary</th>\n",
              "    </tr>\n",
              "  </thead>\n",
              "  <tbody>\n",
              "    <tr>\n",
              "      <th>0</th>\n",
              "      <td>Нет опыта</td>\n",
              "      <td>74643.0</td>\n",
              "    </tr>\n",
              "    <tr>\n",
              "      <th>1</th>\n",
              "      <td>От 1 года до 3 лет</td>\n",
              "      <td>139675.0</td>\n",
              "    </tr>\n",
              "    <tr>\n",
              "      <th>2</th>\n",
              "      <td>От 3 до 6 лет</td>\n",
              "      <td>243115.0</td>\n",
              "    </tr>\n",
              "  </tbody>\n",
              "</table>\n",
              "</div>"
            ],
            "text/plain": [
              "           experience  avg_salary\n",
              "0           Нет опыта     74643.0\n",
              "1  От 1 года до 3 лет    139675.0\n",
              "2       От 3 до 6 лет    243115.0"
            ]
          },
          "execution_count": 48,
          "metadata": {},
          "output_type": "execute_result"
        }
      ],
      "source": [
        "# результат запроса\n",
        "df = pd.read_sql_query(query_6_6, connection)\n",
        "df"
      ]
    },
    {
      "cell_type": "markdown",
      "id": "53e2dd4c",
      "metadata": {},
      "source": [
        "### Выводы по предметному анализу: ###\n",
        "Предметный анализ позволил существенно сократить пул рассматриваемых вакансий (до 1771 вакансии) и конкретизировать требования к соискателям. Сложнее всего найти работу для соискателя без опыта работы, всего 2,8 % вакансий для соискателей в сфере Data Science содержат информацию о готовности к приему на работу специалистов без опыта.\n",
        "\n",
        "Мы узнали, что для 20% вакансий одним из ключевых требований является владение языком Python, навыки в SQL - для 11 %, а в среднем работодатель заинтересован в соискателях с обширными знаниями (в среднем владение 6-7 ключевыми навыками).\n",
        "\n",
        "Из данных о предлагаемых зарплатах можно сделать вывод, что в данной сфере доход работников очень быстро прогрессирует, а опытные специалисты получают в 3-4 раза больше новичков."
      ]
    },
    {
      "cell_type": "markdown",
      "id": "6a7892b4-4113-4746-adce-18aa2844f18e",
      "metadata": {
        "id": "6a7892b4-4113-4746-adce-18aa2844f18e"
      },
      "source": [
        "***"
      ]
    },
    {
      "cell_type": "markdown",
      "id": "c0ED6fh7wiBT",
      "metadata": {
        "id": "c0ED6fh7wiBT"
      },
      "source": [
        "# Общий вывод по проекту"
      ]
    },
    {
      "cell_type": "markdown",
      "id": "5e003f49",
      "metadata": {},
      "source": [
        "Дополнительный запрос 1. Так как агенство, на которое я работаю согласно заданию, представляет интересы соискателей, а не работодателей, интересно будет узнать в каком регионе у соискателя больший выбор работодателей. Я хотел посмотреть не только сколько работодателей выставили вакансии в данный момент, но и сколько потенциальных работодателей для ИТ специалистов имеется в регионе. По-этому я разделил запрос на два с целью дальнейшего объединения. "
      ]
    },
    {
      "cell_type": "code",
      "execution_count": 49,
      "id": "3d6b91d1",
      "metadata": {},
      "outputs": [],
      "source": [
        "# текст запроса. Первый запрос делает выборку регионов, в которых в данный момент открыты вакансии для наших\n",
        "# клиентов и выводит их списком по уменьшению количества потенциальных работодателей\n",
        "\n",
        "\n",
        "query_7_1 = f'''select a.name as \"название региона\", COUNT(distinct v.employer_id) as \"с открытыми вакансиями\"\n",
        "                from areas a\n",
        "                left join vacancies v on a.id=v.area_id\n",
        "                where ((v.name ilike '%data scientist%'\n",
        "                or v.name ilike '%data science%' \n",
        "                or v.name ilike '%исследователь данных%'\n",
        "                or v.name ilike '%machine learning%'\n",
        "                or v.name ilike '%машинн%обучен%')\n",
        "                or (v.name not like '%HTML%' and v.name like '%ML%'))\n",
        "                group by 1\n",
        "                order by 2 desc\n",
        "            '''"
      ]
    },
    {
      "cell_type": "code",
      "execution_count": 50,
      "id": "5bfe066e",
      "metadata": {},
      "outputs": [
        {
          "name": "stderr",
          "output_type": "stream",
          "text": [
            "C:\\Users\\andrv\\AppData\\Local\\Temp\\ipykernel_24572\\433627486.py:2: UserWarning: pandas only supports SQLAlchemy connectable (engine/connection) or database string URI or sqlite3 DBAPI2 connection. Other DBAPI2 objects are not tested. Please consider using SQLAlchemy.\n",
            "  df1 = pd.read_sql_query(query_7_1, connection)\n"
          ]
        }
      ],
      "source": [
        "# по результатам запроса мы формируем первую часть нашего DataFrame и создаем кортеж с названиями регионов, попавших в выборку.\n",
        "df1 = pd.read_sql_query(query_7_1, connection)\n",
        "regions = tuple(df1['название региона'])"
      ]
    },
    {
      "cell_type": "code",
      "execution_count": 51,
      "id": "e637885c",
      "metadata": {},
      "outputs": [],
      "source": [
        "# Второй запрос формирует выборку с количеством потенциальных работодателей для ИТ специалистов в регионах из первой выборки.\n",
        "# Для этого запроса мне понадобилось соединить четыре таблицы из датасета, хоть в результате выведена информация только из двух, \n",
        "# остальные понадобились для связки и введения условий отбора. Условия сформированы субъективно на моем ощущении в каких отрослях\n",
        "# наиболее востребованы ИТ специалисты. Для реальной ситуации этот список может быть дополнен и изучен подробнее.\n",
        "query_7_2 = f'''select a.name as \"название региона\", COUNT(distinct e.id) as \"работодатели в ИТ сфере\"\n",
        "                from areas a\n",
        "                left join employers e on a.id=e.area\n",
        "                left join employers_industries s on e.id=s.employer_id\n",
        "                left join industries i on s.industry_id=i.id\n",
        "                where (i.name like '%ИТ%'\n",
        "                or i.name ilike '%интернет%' \n",
        "                or i.name like 'Разработка программного обеспечения'\n",
        "                or i.name like 'Мобильная связь'\n",
        "                or i.name like 'Банк')\n",
        "                and a.name in {regions}\n",
        "                group by 1\n",
        "                order by 2 desc\n",
        "            '''"
      ]
    },
    {
      "cell_type": "code",
      "execution_count": 52,
      "id": "92ec008a",
      "metadata": {},
      "outputs": [
        {
          "name": "stderr",
          "output_type": "stream",
          "text": [
            "C:\\Users\\andrv\\AppData\\Local\\Temp\\ipykernel_24572\\744256437.py:2: UserWarning: pandas only supports SQLAlchemy connectable (engine/connection) or database string URI or sqlite3 DBAPI2 connection. Other DBAPI2 objects are not tested. Please consider using SQLAlchemy.\n",
            "  df2 = pd.read_sql_query(query_7_2, connection)\n"
          ]
        },
        {
          "data": {
            "text/html": [
              "<div>\n",
              "<style scoped>\n",
              "    .dataframe tbody tr th:only-of-type {\n",
              "        vertical-align: middle;\n",
              "    }\n",
              "\n",
              "    .dataframe tbody tr th {\n",
              "        vertical-align: top;\n",
              "    }\n",
              "\n",
              "    .dataframe thead th {\n",
              "        text-align: right;\n",
              "    }\n",
              "</style>\n",
              "<table border=\"1\" class=\"dataframe\">\n",
              "  <thead>\n",
              "    <tr style=\"text-align: right;\">\n",
              "      <th></th>\n",
              "      <th>название региона</th>\n",
              "      <th>с открытыми вакансиями</th>\n",
              "      <th>работодатели в ИТ сфере</th>\n",
              "    </tr>\n",
              "  </thead>\n",
              "  <tbody>\n",
              "    <tr>\n",
              "      <th>0</th>\n",
              "      <td>Москва</td>\n",
              "      <td>130</td>\n",
              "      <td>1739.0</td>\n",
              "    </tr>\n",
              "    <tr>\n",
              "      <th>1</th>\n",
              "      <td>Санкт-Петербург</td>\n",
              "      <td>47</td>\n",
              "      <td>678.0</td>\n",
              "    </tr>\n",
              "    <tr>\n",
              "      <th>2</th>\n",
              "      <td>Новосибирск</td>\n",
              "      <td>17</td>\n",
              "      <td>166.0</td>\n",
              "    </tr>\n",
              "    <tr>\n",
              "      <th>3</th>\n",
              "      <td>Казань</td>\n",
              "      <td>13</td>\n",
              "      <td>133.0</td>\n",
              "    </tr>\n",
              "    <tr>\n",
              "      <th>4</th>\n",
              "      <td>Алматы</td>\n",
              "      <td>11</td>\n",
              "      <td>262.0</td>\n",
              "    </tr>\n",
              "    <tr>\n",
              "      <th>5</th>\n",
              "      <td>Нижний Новгород</td>\n",
              "      <td>9</td>\n",
              "      <td>95.0</td>\n",
              "    </tr>\n",
              "    <tr>\n",
              "      <th>6</th>\n",
              "      <td>Минск</td>\n",
              "      <td>9</td>\n",
              "      <td>515.0</td>\n",
              "    </tr>\n",
              "    <tr>\n",
              "      <th>7</th>\n",
              "      <td>Екатеринбург</td>\n",
              "      <td>6</td>\n",
              "      <td>134.0</td>\n",
              "    </tr>\n",
              "    <tr>\n",
              "      <th>8</th>\n",
              "      <td>Томск</td>\n",
              "      <td>6</td>\n",
              "      <td>57.0</td>\n",
              "    </tr>\n",
              "    <tr>\n",
              "      <th>9</th>\n",
              "      <td>Краснодар</td>\n",
              "      <td>6</td>\n",
              "      <td>81.0</td>\n",
              "    </tr>\n",
              "    <tr>\n",
              "      <th>10</th>\n",
              "      <td>Пермь</td>\n",
              "      <td>5</td>\n",
              "      <td>62.0</td>\n",
              "    </tr>\n",
              "    <tr>\n",
              "      <th>11</th>\n",
              "      <td>Ростов-на-Дону</td>\n",
              "      <td>5</td>\n",
              "      <td>91.0</td>\n",
              "    </tr>\n",
              "    <tr>\n",
              "      <th>12</th>\n",
              "      <td>Нур-Султан</td>\n",
              "      <td>4</td>\n",
              "      <td>123.0</td>\n",
              "    </tr>\n",
              "    <tr>\n",
              "      <th>13</th>\n",
              "      <td>Самара</td>\n",
              "      <td>4</td>\n",
              "      <td>73.0</td>\n",
              "    </tr>\n",
              "    <tr>\n",
              "      <th>14</th>\n",
              "      <td>Омск</td>\n",
              "      <td>3</td>\n",
              "      <td>40.0</td>\n",
              "    </tr>\n",
              "    <tr>\n",
              "      <th>15</th>\n",
              "      <td>Ташкент</td>\n",
              "      <td>3</td>\n",
              "      <td>147.0</td>\n",
              "    </tr>\n",
              "    <tr>\n",
              "      <th>16</th>\n",
              "      <td>Сербия</td>\n",
              "      <td>3</td>\n",
              "      <td>0.0</td>\n",
              "    </tr>\n",
              "    <tr>\n",
              "      <th>17</th>\n",
              "      <td>Кипр</td>\n",
              "      <td>3</td>\n",
              "      <td>15.0</td>\n",
              "    </tr>\n",
              "    <tr>\n",
              "      <th>18</th>\n",
              "      <td>Армения</td>\n",
              "      <td>3</td>\n",
              "      <td>7.0</td>\n",
              "    </tr>\n",
              "    <tr>\n",
              "      <th>19</th>\n",
              "      <td>Рязань</td>\n",
              "      <td>3</td>\n",
              "      <td>19.0</td>\n",
              "    </tr>\n",
              "    <tr>\n",
              "      <th>20</th>\n",
              "      <td>Тбилиси</td>\n",
              "      <td>3</td>\n",
              "      <td>8.0</td>\n",
              "    </tr>\n",
              "    <tr>\n",
              "      <th>21</th>\n",
              "      <td>Иннополис</td>\n",
              "      <td>2</td>\n",
              "      <td>5.0</td>\n",
              "    </tr>\n",
              "    <tr>\n",
              "      <th>22</th>\n",
              "      <td>Чехия</td>\n",
              "      <td>2</td>\n",
              "      <td>4.0</td>\n",
              "    </tr>\n",
              "    <tr>\n",
              "      <th>23</th>\n",
              "      <td>Киров (Кировская область)</td>\n",
              "      <td>2</td>\n",
              "      <td>29.0</td>\n",
              "    </tr>\n",
              "    <tr>\n",
              "      <th>24</th>\n",
              "      <td>Владивосток</td>\n",
              "      <td>2</td>\n",
              "      <td>21.0</td>\n",
              "    </tr>\n",
              "    <tr>\n",
              "      <th>25</th>\n",
              "      <td>Турция</td>\n",
              "      <td>2</td>\n",
              "      <td>1.0</td>\n",
              "    </tr>\n",
              "    <tr>\n",
              "      <th>26</th>\n",
              "      <td>Воронеж</td>\n",
              "      <td>2</td>\n",
              "      <td>60.0</td>\n",
              "    </tr>\n",
              "    <tr>\n",
              "      <th>27</th>\n",
              "      <td>Уфа</td>\n",
              "      <td>2</td>\n",
              "      <td>35.0</td>\n",
              "    </tr>\n",
              "    <tr>\n",
              "      <th>28</th>\n",
              "      <td>Пенза</td>\n",
              "      <td>2</td>\n",
              "      <td>25.0</td>\n",
              "    </tr>\n",
              "    <tr>\n",
              "      <th>29</th>\n",
              "      <td>Набережные Челны</td>\n",
              "      <td>1</td>\n",
              "      <td>7.0</td>\n",
              "    </tr>\n",
              "    <tr>\n",
              "      <th>30</th>\n",
              "      <td>Баку</td>\n",
              "      <td>1</td>\n",
              "      <td>2.0</td>\n",
              "    </tr>\n",
              "    <tr>\n",
              "      <th>31</th>\n",
              "      <td>Барнаул</td>\n",
              "      <td>1</td>\n",
              "      <td>31.0</td>\n",
              "    </tr>\n",
              "    <tr>\n",
              "      <th>32</th>\n",
              "      <td>Батуми</td>\n",
              "      <td>1</td>\n",
              "      <td>1.0</td>\n",
              "    </tr>\n",
              "    <tr>\n",
              "      <th>33</th>\n",
              "      <td>Белгород</td>\n",
              "      <td>1</td>\n",
              "      <td>18.0</td>\n",
              "    </tr>\n",
              "    <tr>\n",
              "      <th>34</th>\n",
              "      <td>Бишкек</td>\n",
              "      <td>1</td>\n",
              "      <td>44.0</td>\n",
              "    </tr>\n",
              "    <tr>\n",
              "      <th>35</th>\n",
              "      <td>Брянск</td>\n",
              "      <td>1</td>\n",
              "      <td>16.0</td>\n",
              "    </tr>\n",
              "    <tr>\n",
              "      <th>36</th>\n",
              "      <td>Волгоград</td>\n",
              "      <td>1</td>\n",
              "      <td>34.0</td>\n",
              "    </tr>\n",
              "    <tr>\n",
              "      <th>37</th>\n",
              "      <td>Зеленоград</td>\n",
              "      <td>1</td>\n",
              "      <td>5.0</td>\n",
              "    </tr>\n",
              "    <tr>\n",
              "      <th>38</th>\n",
              "      <td>Ижевск</td>\n",
              "      <td>1</td>\n",
              "      <td>48.0</td>\n",
              "    </tr>\n",
              "    <tr>\n",
              "      <th>39</th>\n",
              "      <td>Израиль</td>\n",
              "      <td>1</td>\n",
              "      <td>0.0</td>\n",
              "    </tr>\n",
              "    <tr>\n",
              "      <th>40</th>\n",
              "      <td>Королев</td>\n",
              "      <td>1</td>\n",
              "      <td>2.0</td>\n",
              "    </tr>\n",
              "    <tr>\n",
              "      <th>41</th>\n",
              "      <td>Красноярск</td>\n",
              "      <td>1</td>\n",
              "      <td>38.0</td>\n",
              "    </tr>\n",
              "    <tr>\n",
              "      <th>42</th>\n",
              "      <td>Литва</td>\n",
              "      <td>1</td>\n",
              "      <td>3.0</td>\n",
              "    </tr>\n",
              "    <tr>\n",
              "      <th>43</th>\n",
              "      <td>Абхазия</td>\n",
              "      <td>1</td>\n",
              "      <td>0.0</td>\n",
              "    </tr>\n",
              "    <tr>\n",
              "      <th>44</th>\n",
              "      <td>Орел</td>\n",
              "      <td>1</td>\n",
              "      <td>10.0</td>\n",
              "    </tr>\n",
              "    <tr>\n",
              "      <th>45</th>\n",
              "      <td>Петрозаводск</td>\n",
              "      <td>1</td>\n",
              "      <td>9.0</td>\n",
              "    </tr>\n",
              "    <tr>\n",
              "      <th>46</th>\n",
              "      <td>Польша</td>\n",
              "      <td>1</td>\n",
              "      <td>1.0</td>\n",
              "    </tr>\n",
              "    <tr>\n",
              "      <th>47</th>\n",
              "      <td>Саратов</td>\n",
              "      <td>1</td>\n",
              "      <td>26.0</td>\n",
              "    </tr>\n",
              "    <tr>\n",
              "      <th>48</th>\n",
              "      <td>Тверь</td>\n",
              "      <td>1</td>\n",
              "      <td>17.0</td>\n",
              "    </tr>\n",
              "    <tr>\n",
              "      <th>49</th>\n",
              "      <td>Тюмень</td>\n",
              "      <td>1</td>\n",
              "      <td>41.0</td>\n",
              "    </tr>\n",
              "    <tr>\n",
              "      <th>50</th>\n",
              "      <td>Челябинск</td>\n",
              "      <td>1</td>\n",
              "      <td>59.0</td>\n",
              "    </tr>\n",
              "    <tr>\n",
              "      <th>51</th>\n",
              "      <td>Черногория</td>\n",
              "      <td>1</td>\n",
              "      <td>1.0</td>\n",
              "    </tr>\n",
              "  </tbody>\n",
              "</table>\n",
              "</div>"
            ],
            "text/plain": [
              "             название региона  с открытыми вакансиями  работодатели в ИТ сфере\n",
              "0                      Москва                     130                   1739.0\n",
              "1             Санкт-Петербург                      47                    678.0\n",
              "2                 Новосибирск                      17                    166.0\n",
              "3                      Казань                      13                    133.0\n",
              "4                      Алматы                      11                    262.0\n",
              "5             Нижний Новгород                       9                     95.0\n",
              "6                       Минск                       9                    515.0\n",
              "7                Екатеринбург                       6                    134.0\n",
              "8                       Томск                       6                     57.0\n",
              "9                   Краснодар                       6                     81.0\n",
              "10                      Пермь                       5                     62.0\n",
              "11             Ростов-на-Дону                       5                     91.0\n",
              "12                 Нур-Султан                       4                    123.0\n",
              "13                     Самара                       4                     73.0\n",
              "14                       Омск                       3                     40.0\n",
              "15                    Ташкент                       3                    147.0\n",
              "16                     Сербия                       3                      0.0\n",
              "17                       Кипр                       3                     15.0\n",
              "18                    Армения                       3                      7.0\n",
              "19                     Рязань                       3                     19.0\n",
              "20                    Тбилиси                       3                      8.0\n",
              "21                  Иннополис                       2                      5.0\n",
              "22                      Чехия                       2                      4.0\n",
              "23  Киров (Кировская область)                       2                     29.0\n",
              "24                Владивосток                       2                     21.0\n",
              "25                     Турция                       2                      1.0\n",
              "26                    Воронеж                       2                     60.0\n",
              "27                        Уфа                       2                     35.0\n",
              "28                      Пенза                       2                     25.0\n",
              "29           Набережные Челны                       1                      7.0\n",
              "30                       Баку                       1                      2.0\n",
              "31                    Барнаул                       1                     31.0\n",
              "32                     Батуми                       1                      1.0\n",
              "33                   Белгород                       1                     18.0\n",
              "34                     Бишкек                       1                     44.0\n",
              "35                     Брянск                       1                     16.0\n",
              "36                  Волгоград                       1                     34.0\n",
              "37                 Зеленоград                       1                      5.0\n",
              "38                     Ижевск                       1                     48.0\n",
              "39                    Израиль                       1                      0.0\n",
              "40                    Королев                       1                      2.0\n",
              "41                 Красноярск                       1                     38.0\n",
              "42                      Литва                       1                      3.0\n",
              "43                    Абхазия                       1                      0.0\n",
              "44                       Орел                       1                     10.0\n",
              "45               Петрозаводск                       1                      9.0\n",
              "46                     Польша                       1                      1.0\n",
              "47                    Саратов                       1                     26.0\n",
              "48                      Тверь                       1                     17.0\n",
              "49                     Тюмень                       1                     41.0\n",
              "50                  Челябинск                       1                     59.0\n",
              "51                 Черногория                       1                      1.0"
            ]
          },
          "execution_count": 52,
          "metadata": {},
          "output_type": "execute_result"
        }
      ],
      "source": [
        "# формируем вторую часть таблицы\n",
        "df2 = pd.read_sql_query(query_7_2, connection)\n",
        "\n",
        "# объединяем в общую таблицу\n",
        "merged_df=df1.merge(\n",
        "    df2,\n",
        "    how='left',\n",
        "    on='название региона'\n",
        ")\n",
        "# заменяем пропуски на 0 и выводим результат\n",
        "merged_df=merged_df.fillna(0)\n",
        "merged_df"
      ]
    },
    {
      "cell_type": "markdown",
      "id": "a5c75b2e",
      "metadata": {},
      "source": [
        "Из результатов запроса видно, что наибольшее количество вакансий и работодателей сконцентрированно в Москве. Это было ожидаемо, но не стоит упускать из виду факт, что многие компании предпочитают регистрировать головной офис в Москве, что может немного искажать результат. Помимо Москвы выделяются крупные города и столицы государств. Эти города наиболее подхоят для переезда, особенно если соискатель не хочет зависить от одного работодателя и предполагает возможность смены места работы в будущем."
      ]
    },
    {
      "cell_type": "markdown",
      "id": "2ad1ba27",
      "metadata": {},
      "source": [
        "Дополнительный запрос 2. В 4 юните мы определили чего хотят работодатели, но какой график работы наиболее выгоден нашим клиентам? Сформируем запрос с графиками работы и типами занятости, а также добавим к нему усредненные показатели минимальной и максимальной зарплаты и посчитаем количество вакансий по каждой строке."
      ]
    },
    {
      "cell_type": "code",
      "execution_count": 53,
      "id": "f4b4afcc",
      "metadata": {},
      "outputs": [],
      "source": [
        "query_4_6 = f'''select schedule, employment, round(AVG(salary_from)) avg_from, round(AVG(salary_to)) avg_to, count(id) cnt\n",
        "                from vacancies\n",
        "                where ((name ilike '%data scientist%'\n",
        "                or name ilike '%data science%' \n",
        "                or name ilike '%исследователь данных%'\n",
        "                or name ilike '%machine learning%'\n",
        "                or name ilike '%машинн%обучен%')\n",
        "                or (name not like '%HTML%' and name like '%ML%'))\n",
        "                group by 1,2\n",
        "                order by 3 desc, 4 desc\n",
        "            '''"
      ]
    },
    {
      "cell_type": "code",
      "execution_count": 54,
      "id": "b4ac92fe",
      "metadata": {},
      "outputs": [
        {
          "name": "stderr",
          "output_type": "stream",
          "text": [
            "C:\\Users\\andrv\\AppData\\Local\\Temp\\ipykernel_24572\\934868634.py:2: UserWarning: pandas only supports SQLAlchemy connectable (engine/connection) or database string URI or sqlite3 DBAPI2 connection. Other DBAPI2 objects are not tested. Please consider using SQLAlchemy.\n",
            "  df = pd.read_sql_query(query_4_6, connection)\n"
          ]
        },
        {
          "data": {
            "text/html": [
              "<div>\n",
              "<style scoped>\n",
              "    .dataframe tbody tr th:only-of-type {\n",
              "        vertical-align: middle;\n",
              "    }\n",
              "\n",
              "    .dataframe tbody tr th {\n",
              "        vertical-align: top;\n",
              "    }\n",
              "\n",
              "    .dataframe thead th {\n",
              "        text-align: right;\n",
              "    }\n",
              "</style>\n",
              "<table border=\"1\" class=\"dataframe\">\n",
              "  <thead>\n",
              "    <tr style=\"text-align: right;\">\n",
              "      <th></th>\n",
              "      <th>schedule</th>\n",
              "      <th>employment</th>\n",
              "      <th>avg_from</th>\n",
              "      <th>avg_to</th>\n",
              "      <th>cnt</th>\n",
              "    </tr>\n",
              "  </thead>\n",
              "  <tbody>\n",
              "    <tr>\n",
              "      <th>0</th>\n",
              "      <td>Гибкий график</td>\n",
              "      <td>Частичная занятость</td>\n",
              "      <td>NaN</td>\n",
              "      <td>NaN</td>\n",
              "      <td>4</td>\n",
              "    </tr>\n",
              "    <tr>\n",
              "      <th>1</th>\n",
              "      <td>Полный день</td>\n",
              "      <td>Стажировка</td>\n",
              "      <td>NaN</td>\n",
              "      <td>NaN</td>\n",
              "      <td>2</td>\n",
              "    </tr>\n",
              "    <tr>\n",
              "      <th>2</th>\n",
              "      <td>Удаленная работа</td>\n",
              "      <td>Проектная работа</td>\n",
              "      <td>NaN</td>\n",
              "      <td>90000.0</td>\n",
              "      <td>2</td>\n",
              "    </tr>\n",
              "    <tr>\n",
              "      <th>3</th>\n",
              "      <td>Гибкий график</td>\n",
              "      <td>Стажировка</td>\n",
              "      <td>NaN</td>\n",
              "      <td>37000.0</td>\n",
              "      <td>2</td>\n",
              "    </tr>\n",
              "    <tr>\n",
              "      <th>4</th>\n",
              "      <td>Удаленная работа</td>\n",
              "      <td>Полная занятость</td>\n",
              "      <td>176850.0</td>\n",
              "      <td>242138.0</td>\n",
              "      <td>110</td>\n",
              "    </tr>\n",
              "    <tr>\n",
              "      <th>5</th>\n",
              "      <td>Полный день</td>\n",
              "      <td>Полная занятость</td>\n",
              "      <td>140763.0</td>\n",
              "      <td>228936.0</td>\n",
              "      <td>319</td>\n",
              "    </tr>\n",
              "    <tr>\n",
              "      <th>6</th>\n",
              "      <td>Гибкий график</td>\n",
              "      <td>Полная занятость</td>\n",
              "      <td>140000.0</td>\n",
              "      <td>200000.0</td>\n",
              "      <td>37</td>\n",
              "    </tr>\n",
              "    <tr>\n",
              "      <th>7</th>\n",
              "      <td>Удаленная работа</td>\n",
              "      <td>Частичная занятость</td>\n",
              "      <td>119000.0</td>\n",
              "      <td>NaN</td>\n",
              "      <td>3</td>\n",
              "    </tr>\n",
              "    <tr>\n",
              "      <th>8</th>\n",
              "      <td>Полный день</td>\n",
              "      <td>Частичная занятость</td>\n",
              "      <td>45000.0</td>\n",
              "      <td>100000.0</td>\n",
              "      <td>1</td>\n",
              "    </tr>\n",
              "  </tbody>\n",
              "</table>\n",
              "</div>"
            ],
            "text/plain": [
              "           schedule           employment  avg_from    avg_to  cnt\n",
              "0     Гибкий график  Частичная занятость       NaN       NaN    4\n",
              "1       Полный день           Стажировка       NaN       NaN    2\n",
              "2  Удаленная работа     Проектная работа       NaN   90000.0    2\n",
              "3     Гибкий график           Стажировка       NaN   37000.0    2\n",
              "4  Удаленная работа     Полная занятость  176850.0  242138.0  110\n",
              "5       Полный день     Полная занятость  140763.0  228936.0  319\n",
              "6     Гибкий график     Полная занятость  140000.0  200000.0   37\n",
              "7  Удаленная работа  Частичная занятость  119000.0       NaN    3\n",
              "8       Полный день  Частичная занятость   45000.0  100000.0    1"
            ]
          },
          "execution_count": 54,
          "metadata": {},
          "output_type": "execute_result"
        }
      ],
      "source": [
        "# результат запроса\n",
        "df = pd.read_sql_query(query_4_6, connection)\n",
        "df"
      ]
    },
    {
      "cell_type": "markdown",
      "id": "ce69c1c6",
      "metadata": {},
      "source": [
        "Из дополнительного запроса мы можем понять, что для удовлетворения интересов наших клиентов, нам стоит обратить внимание на удаленную работу с полной занятостью. Зарплаты здесь выше, чем при полном дне, а вакансий вполне достаточно, что б было из чего выбрать. Да и наши претенденты на позицию Data Scientist вполне могут работать удаленно (кому-то это может быть даже гараздо удобнее). Первые четыре комбинации графика и занятости я бы особо не рассматривал из-за ограниченного пула вакансий и неопределенной зарплатной вилки."
      ]
    },
    {
      "cell_type": "code",
      "execution_count": 55,
      "id": "h9B3BL-wwj18",
      "metadata": {
        "id": "h9B3BL-wwj18"
      },
      "outputs": [],
      "source": [
        "# подведем итог исследования, обобщите выводы\n",
        "# здесь можно (это будет плюсом) провести дополнительные исследования данных, сделать прогнозы, продумать варианты продолжения исследования"
      ]
    }
  ],
  "metadata": {
    "colab": {
      "collapsed_sections": [
        "8d62a9f3-f64e-4fe7-bdac-c4dffa16155e"
      ],
      "provenance": []
    },
    "kernelspec": {
      "display_name": "Python 3 (ipykernel)",
      "language": "python",
      "name": "python3"
    },
    "language_info": {
      "codemirror_mode": {
        "name": "ipython",
        "version": 3
      },
      "file_extension": ".py",
      "mimetype": "text/x-python",
      "name": "python",
      "nbconvert_exporter": "python",
      "pygments_lexer": "ipython3",
      "version": "3.9.13"
    }
  },
  "nbformat": 4,
  "nbformat_minor": 5
}
